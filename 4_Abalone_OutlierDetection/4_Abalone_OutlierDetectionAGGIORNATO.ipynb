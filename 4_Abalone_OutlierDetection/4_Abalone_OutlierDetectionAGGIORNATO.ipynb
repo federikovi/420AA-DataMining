{
 "cells": [
  {
   "cell_type": "markdown",
   "metadata": {},
   "source": [
    "# Data Mining II Project \n",
    "***\n",
    "#### University of Pisa - Gabriele Leone, Federica Trevisan"
   ]
  },
  {
   "cell_type": "markdown",
   "metadata": {},
   "source": [
    "# Outlier detection \n",
    "From the Abalone dataset, identify the top 1% outliers. "
   ]
  },
  {
   "cell_type": "markdown",
   "metadata": {},
   "source": [
    "## Dataset\n",
    "The UCI Abalone dataset, containing various features of abalones, including the age – to be inferred by the number or rings. \n",
    "https://archive.ics.uci.edu/ml/datasets/Abalone"
   ]
  },
  {
   "cell_type": "markdown",
   "metadata": {},
   "source": [
    "## Objective\n",
    "Adopt at least two different methods belonging to different families (i.e. model-based, distance-based, density-based, angle-based, …) to identify the 1% of input records with the highest likelihood of being outliers, and compare the results."
   ]
  },
  {
   "cell_type": "markdown",
   "metadata": {},
   "source": [
    "## Depth Based approach"
   ]
  },
  {
   "cell_type": "markdown",
   "metadata": {},
   "source": [
    "## DBSCAN"
   ]
  },
  {
   "cell_type": "code",
   "execution_count": 23,
   "metadata": {},
   "outputs": [
    {
     "data": {
      "text/html": [
       "<div>\n",
       "<style>\n",
       "    .dataframe thead tr:only-child th {\n",
       "        text-align: right;\n",
       "    }\n",
       "\n",
       "    .dataframe thead th {\n",
       "        text-align: left;\n",
       "    }\n",
       "\n",
       "    .dataframe tbody tr th {\n",
       "        vertical-align: top;\n",
       "    }\n",
       "</style>\n",
       "<table border=\"1\" class=\"dataframe\">\n",
       "  <thead>\n",
       "    <tr style=\"text-align: right;\">\n",
       "      <th></th>\n",
       "      <th>length</th>\n",
       "      <th>diameter</th>\n",
       "      <th>height</th>\n",
       "      <th>weight_whole</th>\n",
       "      <th>weight_shucked</th>\n",
       "      <th>weight_viscera</th>\n",
       "      <th>weight_shell</th>\n",
       "      <th>rings</th>\n",
       "    </tr>\n",
       "  </thead>\n",
       "  <tbody>\n",
       "    <tr>\n",
       "      <th>count</th>\n",
       "      <td>4177.000000</td>\n",
       "      <td>4177.000000</td>\n",
       "      <td>4177.000000</td>\n",
       "      <td>4177.000000</td>\n",
       "      <td>4177.000000</td>\n",
       "      <td>4177.000000</td>\n",
       "      <td>4177.000000</td>\n",
       "      <td>4177.000000</td>\n",
       "    </tr>\n",
       "    <tr>\n",
       "      <th>mean</th>\n",
       "      <td>0.523992</td>\n",
       "      <td>0.407881</td>\n",
       "      <td>0.139516</td>\n",
       "      <td>0.828742</td>\n",
       "      <td>0.359367</td>\n",
       "      <td>0.180594</td>\n",
       "      <td>0.238831</td>\n",
       "      <td>9.933684</td>\n",
       "    </tr>\n",
       "    <tr>\n",
       "      <th>std</th>\n",
       "      <td>0.120093</td>\n",
       "      <td>0.099240</td>\n",
       "      <td>0.041827</td>\n",
       "      <td>0.490389</td>\n",
       "      <td>0.221963</td>\n",
       "      <td>0.109614</td>\n",
       "      <td>0.139203</td>\n",
       "      <td>3.224169</td>\n",
       "    </tr>\n",
       "    <tr>\n",
       "      <th>min</th>\n",
       "      <td>0.075000</td>\n",
       "      <td>0.055000</td>\n",
       "      <td>0.000000</td>\n",
       "      <td>0.002000</td>\n",
       "      <td>0.001000</td>\n",
       "      <td>0.000500</td>\n",
       "      <td>0.001500</td>\n",
       "      <td>1.000000</td>\n",
       "    </tr>\n",
       "    <tr>\n",
       "      <th>25%</th>\n",
       "      <td>0.450000</td>\n",
       "      <td>0.350000</td>\n",
       "      <td>0.115000</td>\n",
       "      <td>0.441500</td>\n",
       "      <td>0.186000</td>\n",
       "      <td>0.093500</td>\n",
       "      <td>0.130000</td>\n",
       "      <td>8.000000</td>\n",
       "    </tr>\n",
       "    <tr>\n",
       "      <th>50%</th>\n",
       "      <td>0.545000</td>\n",
       "      <td>0.425000</td>\n",
       "      <td>0.140000</td>\n",
       "      <td>0.799500</td>\n",
       "      <td>0.336000</td>\n",
       "      <td>0.171000</td>\n",
       "      <td>0.234000</td>\n",
       "      <td>9.000000</td>\n",
       "    </tr>\n",
       "    <tr>\n",
       "      <th>75%</th>\n",
       "      <td>0.615000</td>\n",
       "      <td>0.480000</td>\n",
       "      <td>0.165000</td>\n",
       "      <td>1.153000</td>\n",
       "      <td>0.502000</td>\n",
       "      <td>0.253000</td>\n",
       "      <td>0.329000</td>\n",
       "      <td>11.000000</td>\n",
       "    </tr>\n",
       "    <tr>\n",
       "      <th>max</th>\n",
       "      <td>0.815000</td>\n",
       "      <td>0.650000</td>\n",
       "      <td>1.130000</td>\n",
       "      <td>2.825500</td>\n",
       "      <td>1.488000</td>\n",
       "      <td>0.760000</td>\n",
       "      <td>1.005000</td>\n",
       "      <td>29.000000</td>\n",
       "    </tr>\n",
       "  </tbody>\n",
       "</table>\n",
       "</div>"
      ],
      "text/plain": [
       "            length     diameter       height  weight_whole  weight_shucked  \\\n",
       "count  4177.000000  4177.000000  4177.000000   4177.000000     4177.000000   \n",
       "mean      0.523992     0.407881     0.139516      0.828742        0.359367   \n",
       "std       0.120093     0.099240     0.041827      0.490389        0.221963   \n",
       "min       0.075000     0.055000     0.000000      0.002000        0.001000   \n",
       "25%       0.450000     0.350000     0.115000      0.441500        0.186000   \n",
       "50%       0.545000     0.425000     0.140000      0.799500        0.336000   \n",
       "75%       0.615000     0.480000     0.165000      1.153000        0.502000   \n",
       "max       0.815000     0.650000     1.130000      2.825500        1.488000   \n",
       "\n",
       "       weight_viscera  weight_shell        rings  \n",
       "count     4177.000000   4177.000000  4177.000000  \n",
       "mean         0.180594      0.238831     9.933684  \n",
       "std          0.109614      0.139203     3.224169  \n",
       "min          0.000500      0.001500     1.000000  \n",
       "25%          0.093500      0.130000     8.000000  \n",
       "50%          0.171000      0.234000     9.000000  \n",
       "75%          0.253000      0.329000    11.000000  \n",
       "max          0.760000      1.005000    29.000000  "
      ]
     },
     "execution_count": 23,
     "metadata": {},
     "output_type": "execute_result"
    }
   ],
   "source": [
    "import pandas as pd\n",
    "\n",
    "abalone_data = pd.read_csv(\"abalone_dataset.csv\")\n",
    "abalone_data = abalone_data.drop('sex', axis = 1)\n",
    "abalone_data.describe()"
   ]
  },
  {
   "cell_type": "code",
   "execution_count": 24,
   "metadata": {},
   "outputs": [],
   "source": [
    "dataset = abalone_data.as_matrix()"
   ]
  },
  {
   "cell_type": "markdown",
   "metadata": {},
   "source": [
    "## Apply DBSCAN\n",
    "Fix min_pts=5 and try several eps between 0 and 1\n",
    "\n",
    "Plot noise size vs. epsilon"
   ]
  },
  {
   "cell_type": "code",
   "execution_count": 26,
   "metadata": {},
   "outputs": [
    {
     "data": {
      "text/plain": [
       "[<matplotlib.lines.Line2D at 0x2e1afb276d8>]"
      ]
     },
     "execution_count": 26,
     "metadata": {},
     "output_type": "execute_result"
    },
    {
     "data": {
      "image/png": "[encoded data removed]",
      "text/plain": [
       "<matplotlib.figure.Figure at 0x2e1afe91ef0>"
      ]
     },
     "metadata": {},
     "output_type": "display_data"
    }
   ],
   "source": [
    "from sklearn.metrics import *\n",
    "from sklearn.cluster import DBSCAN\n",
    "\n",
    "xx = np.linspace(0.01, 1.00, 100)\n",
    "yy = list()\n",
    "for eps in xx:\n",
    "    dbscan = DBSCAN(eps, min_samples=5, metric='euclidean')\n",
    "    dbscan.fit(dataset)\n",
    "    labels = dbscan.labels_\n",
    "    # yy = size of noise cluster\n",
    "    #yy.append(float(len([1 for i in labels if i == -1])) / len(dataset))\n",
    "    hist, bins = np.histogram(dbscan.labels_, bins=range(-1, len(set(dbscan.labels_)) + 1))\n",
    "    clusters = dict(zip(bins, hist))\n",
    "    yy.append(clusters.get(-1))\n",
    "    \n",
    "plt.xlabel('eps')\n",
    "plt.ylabel('Noise size')\n",
    "plot(xx, yy)"
   ]
  },
  {
   "cell_type": "markdown",
   "metadata": {},
   "source": [
    "eps in order to have 1% outliers"
   ]
  },
  {
   "cell_type": "code",
   "execution_count": 28,
   "metadata": {},
   "outputs": [
    {
     "name": "stdout",
     "output_type": "stream",
     "text": [
      "0.36000000000000004\n"
     ]
    }
   ],
   "source": [
    "my_eps = min( [ xx[i] for i in range(len(xx)) if yy[i]<45 ] )\n",
    "print(my_eps)"
   ]
  },
  {
   "cell_type": "code",
   "execution_count": 30,
   "metadata": {},
   "outputs": [
    {
     "name": "stdout",
     "output_type": "stream",
     "text": [
      "labels {-1: 44, 0: 103, 1: 391, 2: 687, 3: 634, 4: 567, 5: 23, 6: 67, 7: 32, 8: 123, 9: 487, 10: 266, 11: 40, 12: 202, 13: 115, 14: 57, 15: 258, 16: 12, 17: 54, 18: 15, 19: 0}\n"
     ]
    }
   ],
   "source": [
    "dbscan = DBSCAN(0.36, min_samples=5, metric='euclidean')\n",
    "dbscan.fit(dataset)\n",
    "labels = dbscan.labels_\n",
    "hist, bins = np.histogram(dbscan.labels_, bins=range(-1, len(set(dbscan.labels_)) + 1))\n",
    "print ('labels', dict(zip(bins, hist)))"
   ]
  },
  {
   "cell_type": "code",
   "execution_count": 31,
   "metadata": {},
   "outputs": [
    {
     "data": {
      "text/plain": [
       "[<matplotlib.lines.Line2D at 0x2e1afb7bda0>]"
      ]
     },
     "execution_count": 31,
     "metadata": {},
     "output_type": "execute_result"
    },
    {
     "data": {
      "image/png": "[encoded data removed]",
      "text/plain": [
       "<matplotlib.figure.Figure at 0x2e1afb479b0>"
      ]
     },
     "metadata": {},
     "output_type": "display_data"
    }
   ],
   "source": [
    "dbscan = DBSCAN(my_eps, min_samples=5, metric='euclidean')\n",
    "dbscan.fit(dataset)\n",
    "labels = dbscan.labels_\n",
    "noise = array([ dataset[i] for i in range(len(dataset)) if labels[i]==-1])\n",
    "\n",
    "xlim(min(dataset[:,1]-0.1), max(dataset[:,1])+0.1)\n",
    "ylim(min(dataset[:,3]-0.1), max(dataset[:,3])+0.1)\n",
    "\n",
    "plot(dataset[:,1], dataset[:,3], 'bo')\n",
    "plot(noise[:,1], noise[:,3], 'ro')"
   ]
  },
  {
   "cell_type": "code",
   "execution_count": 32,
   "metadata": {},
   "outputs": [
    {
     "data": {
      "text/plain": [
       "[<matplotlib.lines.Line2D at 0x2e1afabe9e8>]"
      ]
     },
     "execution_count": 32,
     "metadata": {},
     "output_type": "execute_result"
    },
    {
     "data": {
      "image/png": "[encoded data removed]",
      "text/plain": [
       "<matplotlib.figure.Figure at 0x2e1af88a5c0>"
      ]
     },
     "metadata": {},
     "output_type": "display_data"
    }
   ],
   "source": [
    "xlim(min(dataset[:,0]-0.1), max(dataset[:,0])+0.1)\n",
    "ylim(min(dataset[:,1]-0.1), max(dataset[:,1])+0.1)\n",
    "\n",
    "plot(dataset[:,0], dataset[:,1], 'bo')\n",
    "plot(noise[:,0], noise[:,1], 'ro')"
   ]
  },
  {
   "cell_type": "code",
   "execution_count": 33,
   "metadata": {},
   "outputs": [
    {
     "data": {
      "text/plain": [
       "[<matplotlib.lines.Line2D at 0x2e1afa2d240>]"
      ]
     },
     "execution_count": 33,
     "metadata": {},
     "output_type": "execute_result"
    },
    {
     "data": {
      "image/png": "[encoded data removed]",
      "text/plain": [
       "<matplotlib.figure.Figure at 0x2e1afa2d470>"
      ]
     },
     "metadata": {},
     "output_type": "display_data"
    }
   ],
   "source": [
    "xlim(min(dataset[:,2]-0.1), max(dataset[:,2])+0.1)\n",
    "ylim(min(dataset[:,3]-0.1), max(dataset[:,3])+0.1)\n",
    "\n",
    "plot(dataset[:,2], dataset[:,3], 'bo')\n",
    "plot(noise[:,2], noise[:,3], 'ro')"
   ]
  },
  {
   "cell_type": "code",
   "execution_count": 34,
   "metadata": {},
   "outputs": [
    {
     "data": {
      "text/plain": [
       "[<matplotlib.lines.Line2D at 0x2e1afb3ce10>]"
      ]
     },
     "execution_count": 34,
     "metadata": {},
     "output_type": "execute_result"
    },
    {
     "data": {
      "image/png": "[encoded data removed]",
      "text/plain": [
       "<matplotlib.figure.Figure at 0x2e1afb3cc50>"
      ]
     },
     "metadata": {},
     "output_type": "display_data"
    }
   ],
   "source": [
    "xlim(min(dataset[:,4]-0.1), max(dataset[:,4])+0.1)\n",
    "ylim(min(dataset[:,2]-0.1), max(dataset[:,2])+0.1)\n",
    "\n",
    "plot(dataset[:,4], dataset[:,2], 'bo')\n",
    "plot(noise[:,4], noise[:,2], 'ro')"
   ]
  },
  {
   "cell_type": "code",
   "execution_count": 36,
   "metadata": {},
   "outputs": [
    {
     "data": {
      "text/html": [
       "<div>\n",
       "<style>\n",
       "    .dataframe thead tr:only-child th {\n",
       "        text-align: right;\n",
       "    }\n",
       "\n",
       "    .dataframe thead th {\n",
       "        text-align: left;\n",
       "    }\n",
       "\n",
       "    .dataframe tbody tr th {\n",
       "        vertical-align: top;\n",
       "    }\n",
       "</style>\n",
       "<table border=\"1\" class=\"dataframe\">\n",
       "  <thead>\n",
       "    <tr style=\"text-align: right;\">\n",
       "      <th></th>\n",
       "      <th>length</th>\n",
       "      <th>diameter</th>\n",
       "      <th>height</th>\n",
       "      <th>weight_whole</th>\n",
       "      <th>weight_shucked</th>\n",
       "      <th>weight_viscera</th>\n",
       "      <th>weight_shell</th>\n",
       "      <th>rings</th>\n",
       "      <th>dbscan_label</th>\n",
       "    </tr>\n",
       "  </thead>\n",
       "  <tbody>\n",
       "    <tr>\n",
       "      <th>0</th>\n",
       "      <td>0.455</td>\n",
       "      <td>0.365</td>\n",
       "      <td>0.095</td>\n",
       "      <td>0.5140</td>\n",
       "      <td>0.2245</td>\n",
       "      <td>0.1010</td>\n",
       "      <td>0.150</td>\n",
       "      <td>15</td>\n",
       "      <td>0</td>\n",
       "    </tr>\n",
       "    <tr>\n",
       "      <th>1</th>\n",
       "      <td>0.350</td>\n",
       "      <td>0.265</td>\n",
       "      <td>0.090</td>\n",
       "      <td>0.2255</td>\n",
       "      <td>0.0995</td>\n",
       "      <td>0.0485</td>\n",
       "      <td>0.070</td>\n",
       "      <td>7</td>\n",
       "      <td>1</td>\n",
       "    </tr>\n",
       "    <tr>\n",
       "      <th>2</th>\n",
       "      <td>0.530</td>\n",
       "      <td>0.420</td>\n",
       "      <td>0.135</td>\n",
       "      <td>0.6770</td>\n",
       "      <td>0.2565</td>\n",
       "      <td>0.1415</td>\n",
       "      <td>0.210</td>\n",
       "      <td>9</td>\n",
       "      <td>2</td>\n",
       "    </tr>\n",
       "    <tr>\n",
       "      <th>3</th>\n",
       "      <td>0.440</td>\n",
       "      <td>0.365</td>\n",
       "      <td>0.125</td>\n",
       "      <td>0.5160</td>\n",
       "      <td>0.2155</td>\n",
       "      <td>0.1140</td>\n",
       "      <td>0.155</td>\n",
       "      <td>10</td>\n",
       "      <td>3</td>\n",
       "    </tr>\n",
       "    <tr>\n",
       "      <th>4</th>\n",
       "      <td>0.330</td>\n",
       "      <td>0.255</td>\n",
       "      <td>0.080</td>\n",
       "      <td>0.2050</td>\n",
       "      <td>0.0895</td>\n",
       "      <td>0.0395</td>\n",
       "      <td>0.055</td>\n",
       "      <td>7</td>\n",
       "      <td>1</td>\n",
       "    </tr>\n",
       "  </tbody>\n",
       "</table>\n",
       "</div>"
      ],
      "text/plain": [
       "   length  diameter  height  weight_whole  weight_shucked  weight_viscera  \\\n",
       "0   0.455     0.365   0.095        0.5140          0.2245          0.1010   \n",
       "1   0.350     0.265   0.090        0.2255          0.0995          0.0485   \n",
       "2   0.530     0.420   0.135        0.6770          0.2565          0.1415   \n",
       "3   0.440     0.365   0.125        0.5160          0.2155          0.1140   \n",
       "4   0.330     0.255   0.080        0.2050          0.0895          0.0395   \n",
       "\n",
       "   weight_shell  rings  dbscan_label  \n",
       "0         0.150     15             0  \n",
       "1         0.070      7             1  \n",
       "2         0.210      9             2  \n",
       "3         0.155     10             3  \n",
       "4         0.055      7             1  "
      ]
     },
     "execution_count": 36,
     "metadata": {},
     "output_type": "execute_result"
    }
   ],
   "source": [
    "abalone_data = pd.read_csv(\"abalone_dataset.csv\")\n",
    "abalone_data = abalone_data.drop('sex', axis = 1)\n",
    "abalone_data['dbscan_label'] = dbscan.labels_\n",
    "abalone_data.head()"
   ]
  },
  {
   "cell_type": "code",
   "execution_count": 37,
   "metadata": {},
   "outputs": [],
   "source": [
    "outliers_dbscan = abalone_data[abalone_data['dbscan_label'] == -1]"
   ]
  },
  {
   "cell_type": "code",
   "execution_count": 38,
   "metadata": {},
   "outputs": [
    {
     "data": {
      "text/html": [
       "<div>\n",
       "<style>\n",
       "    .dataframe thead tr:only-child th {\n",
       "        text-align: right;\n",
       "    }\n",
       "\n",
       "    .dataframe thead th {\n",
       "        text-align: left;\n",
       "    }\n",
       "\n",
       "    .dataframe tbody tr th {\n",
       "        vertical-align: top;\n",
       "    }\n",
       "</style>\n",
       "<table border=\"1\" class=\"dataframe\">\n",
       "  <thead>\n",
       "    <tr style=\"text-align: right;\">\n",
       "      <th></th>\n",
       "      <th>length</th>\n",
       "      <th>diameter</th>\n",
       "      <th>height</th>\n",
       "      <th>weight_whole</th>\n",
       "      <th>weight_shucked</th>\n",
       "      <th>weight_viscera</th>\n",
       "      <th>weight_shell</th>\n",
       "      <th>rings</th>\n",
       "      <th>dbscan_label</th>\n",
       "    </tr>\n",
       "  </thead>\n",
       "  <tbody>\n",
       "    <tr>\n",
       "      <th>129</th>\n",
       "      <td>0.710</td>\n",
       "      <td>0.540</td>\n",
       "      <td>0.165</td>\n",
       "      <td>1.9590</td>\n",
       "      <td>0.7665</td>\n",
       "      <td>0.2610</td>\n",
       "      <td>0.7800</td>\n",
       "      <td>18</td>\n",
       "      <td>-1</td>\n",
       "    </tr>\n",
       "    <tr>\n",
       "      <th>163</th>\n",
       "      <td>0.725</td>\n",
       "      <td>0.560</td>\n",
       "      <td>0.210</td>\n",
       "      <td>2.1410</td>\n",
       "      <td>0.6500</td>\n",
       "      <td>0.3980</td>\n",
       "      <td>1.0050</td>\n",
       "      <td>18</td>\n",
       "      <td>-1</td>\n",
       "    </tr>\n",
       "    <tr>\n",
       "      <th>165</th>\n",
       "      <td>0.725</td>\n",
       "      <td>0.570</td>\n",
       "      <td>0.190</td>\n",
       "      <td>2.5500</td>\n",
       "      <td>1.0705</td>\n",
       "      <td>0.4830</td>\n",
       "      <td>0.7250</td>\n",
       "      <td>14</td>\n",
       "      <td>-1</td>\n",
       "    </tr>\n",
       "    <tr>\n",
       "      <th>166</th>\n",
       "      <td>0.725</td>\n",
       "      <td>0.575</td>\n",
       "      <td>0.175</td>\n",
       "      <td>2.1240</td>\n",
       "      <td>0.7650</td>\n",
       "      <td>0.4515</td>\n",
       "      <td>0.8500</td>\n",
       "      <td>20</td>\n",
       "      <td>-1</td>\n",
       "    </tr>\n",
       "    <tr>\n",
       "      <th>167</th>\n",
       "      <td>0.680</td>\n",
       "      <td>0.570</td>\n",
       "      <td>0.205</td>\n",
       "      <td>1.8420</td>\n",
       "      <td>0.6250</td>\n",
       "      <td>0.4080</td>\n",
       "      <td>0.6500</td>\n",
       "      <td>20</td>\n",
       "      <td>-1</td>\n",
       "    </tr>\n",
       "    <tr>\n",
       "      <th>232</th>\n",
       "      <td>0.625</td>\n",
       "      <td>0.505</td>\n",
       "      <td>0.215</td>\n",
       "      <td>1.4455</td>\n",
       "      <td>0.4960</td>\n",
       "      <td>0.2870</td>\n",
       "      <td>0.4350</td>\n",
       "      <td>22</td>\n",
       "      <td>-1</td>\n",
       "    </tr>\n",
       "    <tr>\n",
       "      <th>236</th>\n",
       "      <td>0.075</td>\n",
       "      <td>0.055</td>\n",
       "      <td>0.010</td>\n",
       "      <td>0.0020</td>\n",
       "      <td>0.0010</td>\n",
       "      <td>0.0005</td>\n",
       "      <td>0.0015</td>\n",
       "      <td>1</td>\n",
       "      <td>-1</td>\n",
       "    </tr>\n",
       "    <tr>\n",
       "      <th>270</th>\n",
       "      <td>0.640</td>\n",
       "      <td>0.525</td>\n",
       "      <td>0.215</td>\n",
       "      <td>1.7790</td>\n",
       "      <td>0.4535</td>\n",
       "      <td>0.2855</td>\n",
       "      <td>0.5500</td>\n",
       "      <td>22</td>\n",
       "      <td>-1</td>\n",
       "    </tr>\n",
       "    <tr>\n",
       "      <th>275</th>\n",
       "      <td>0.655</td>\n",
       "      <td>0.540</td>\n",
       "      <td>0.215</td>\n",
       "      <td>1.8440</td>\n",
       "      <td>0.7425</td>\n",
       "      <td>0.3270</td>\n",
       "      <td>0.5850</td>\n",
       "      <td>22</td>\n",
       "      <td>-1</td>\n",
       "    </tr>\n",
       "    <tr>\n",
       "      <th>294</th>\n",
       "      <td>0.600</td>\n",
       "      <td>0.495</td>\n",
       "      <td>0.195</td>\n",
       "      <td>1.0575</td>\n",
       "      <td>0.3840</td>\n",
       "      <td>0.1900</td>\n",
       "      <td>0.3750</td>\n",
       "      <td>26</td>\n",
       "      <td>-1</td>\n",
       "    </tr>\n",
       "    <tr>\n",
       "      <th>313</th>\n",
       "      <td>0.620</td>\n",
       "      <td>0.470</td>\n",
       "      <td>0.200</td>\n",
       "      <td>1.2255</td>\n",
       "      <td>0.3810</td>\n",
       "      <td>0.2700</td>\n",
       "      <td>0.4350</td>\n",
       "      <td>23</td>\n",
       "      <td>-1</td>\n",
       "    </tr>\n",
       "    <tr>\n",
       "      <th>314</th>\n",
       "      <td>0.630</td>\n",
       "      <td>0.485</td>\n",
       "      <td>0.175</td>\n",
       "      <td>1.3000</td>\n",
       "      <td>0.4335</td>\n",
       "      <td>0.2945</td>\n",
       "      <td>0.4600</td>\n",
       "      <td>23</td>\n",
       "      <td>-1</td>\n",
       "    </tr>\n",
       "    <tr>\n",
       "      <th>351</th>\n",
       "      <td>0.585</td>\n",
       "      <td>0.450</td>\n",
       "      <td>0.170</td>\n",
       "      <td>0.8685</td>\n",
       "      <td>0.3325</td>\n",
       "      <td>0.1635</td>\n",
       "      <td>0.2700</td>\n",
       "      <td>22</td>\n",
       "      <td>-1</td>\n",
       "    </tr>\n",
       "    <tr>\n",
       "      <th>355</th>\n",
       "      <td>0.700</td>\n",
       "      <td>0.580</td>\n",
       "      <td>0.205</td>\n",
       "      <td>2.1300</td>\n",
       "      <td>0.7415</td>\n",
       "      <td>0.4900</td>\n",
       "      <td>0.5800</td>\n",
       "      <td>20</td>\n",
       "      <td>-1</td>\n",
       "    </tr>\n",
       "    <tr>\n",
       "      <th>358</th>\n",
       "      <td>0.745</td>\n",
       "      <td>0.585</td>\n",
       "      <td>0.215</td>\n",
       "      <td>2.4990</td>\n",
       "      <td>0.9265</td>\n",
       "      <td>0.4720</td>\n",
       "      <td>0.7000</td>\n",
       "      <td>17</td>\n",
       "      <td>-1</td>\n",
       "    </tr>\n",
       "    <tr>\n",
       "      <th>433</th>\n",
       "      <td>0.545</td>\n",
       "      <td>0.420</td>\n",
       "      <td>0.140</td>\n",
       "      <td>0.7505</td>\n",
       "      <td>0.2475</td>\n",
       "      <td>0.1300</td>\n",
       "      <td>0.2550</td>\n",
       "      <td>22</td>\n",
       "      <td>-1</td>\n",
       "    </tr>\n",
       "    <tr>\n",
       "      <th>480</th>\n",
       "      <td>0.700</td>\n",
       "      <td>0.585</td>\n",
       "      <td>0.185</td>\n",
       "      <td>1.8075</td>\n",
       "      <td>0.7055</td>\n",
       "      <td>0.3215</td>\n",
       "      <td>0.4750</td>\n",
       "      <td>29</td>\n",
       "      <td>-1</td>\n",
       "    </tr>\n",
       "    <tr>\n",
       "      <th>501</th>\n",
       "      <td>0.620</td>\n",
       "      <td>0.520</td>\n",
       "      <td>0.225</td>\n",
       "      <td>1.1835</td>\n",
       "      <td>0.3780</td>\n",
       "      <td>0.2700</td>\n",
       "      <td>0.3950</td>\n",
       "      <td>23</td>\n",
       "      <td>-1</td>\n",
       "    </tr>\n",
       "    <tr>\n",
       "      <th>673</th>\n",
       "      <td>0.490</td>\n",
       "      <td>0.390</td>\n",
       "      <td>0.150</td>\n",
       "      <td>0.5730</td>\n",
       "      <td>0.2250</td>\n",
       "      <td>0.1240</td>\n",
       "      <td>0.1700</td>\n",
       "      <td>21</td>\n",
       "      <td>-1</td>\n",
       "    </tr>\n",
       "    <tr>\n",
       "      <th>674</th>\n",
       "      <td>0.490</td>\n",
       "      <td>0.385</td>\n",
       "      <td>0.150</td>\n",
       "      <td>0.7865</td>\n",
       "      <td>0.2410</td>\n",
       "      <td>0.1400</td>\n",
       "      <td>0.2400</td>\n",
       "      <td>23</td>\n",
       "      <td>-1</td>\n",
       "    </tr>\n",
       "    <tr>\n",
       "      <th>675</th>\n",
       "      <td>0.520</td>\n",
       "      <td>0.395</td>\n",
       "      <td>0.180</td>\n",
       "      <td>0.6400</td>\n",
       "      <td>0.1580</td>\n",
       "      <td>0.1100</td>\n",
       "      <td>0.2450</td>\n",
       "      <td>22</td>\n",
       "      <td>-1</td>\n",
       "    </tr>\n",
       "    <tr>\n",
       "      <th>678</th>\n",
       "      <td>0.450</td>\n",
       "      <td>0.380</td>\n",
       "      <td>0.165</td>\n",
       "      <td>0.8165</td>\n",
       "      <td>0.2500</td>\n",
       "      <td>0.1915</td>\n",
       "      <td>0.2650</td>\n",
       "      <td>23</td>\n",
       "      <td>-1</td>\n",
       "    </tr>\n",
       "    <tr>\n",
       "      <th>719</th>\n",
       "      <td>0.150</td>\n",
       "      <td>0.100</td>\n",
       "      <td>0.025</td>\n",
       "      <td>0.0150</td>\n",
       "      <td>0.0045</td>\n",
       "      <td>0.0040</td>\n",
       "      <td>0.0050</td>\n",
       "      <td>2</td>\n",
       "      <td>-1</td>\n",
       "    </tr>\n",
       "    <tr>\n",
       "      <th>811</th>\n",
       "      <td>0.490</td>\n",
       "      <td>0.365</td>\n",
       "      <td>0.130</td>\n",
       "      <td>0.6835</td>\n",
       "      <td>0.1650</td>\n",
       "      <td>0.1315</td>\n",
       "      <td>0.2050</td>\n",
       "      <td>21</td>\n",
       "      <td>-1</td>\n",
       "    </tr>\n",
       "    <tr>\n",
       "      <th>882</th>\n",
       "      <td>0.655</td>\n",
       "      <td>0.580</td>\n",
       "      <td>0.205</td>\n",
       "      <td>2.0805</td>\n",
       "      <td>0.9590</td>\n",
       "      <td>0.3415</td>\n",
       "      <td>0.6010</td>\n",
       "      <td>17</td>\n",
       "      <td>-1</td>\n",
       "    </tr>\n",
       "    <tr>\n",
       "      <th>891</th>\n",
       "      <td>0.730</td>\n",
       "      <td>0.595</td>\n",
       "      <td>0.230</td>\n",
       "      <td>2.8255</td>\n",
       "      <td>1.1465</td>\n",
       "      <td>0.4190</td>\n",
       "      <td>0.8970</td>\n",
       "      <td>17</td>\n",
       "      <td>-1</td>\n",
       "    </tr>\n",
       "    <tr>\n",
       "      <th>1039</th>\n",
       "      <td>0.660</td>\n",
       "      <td>0.475</td>\n",
       "      <td>0.180</td>\n",
       "      <td>1.3695</td>\n",
       "      <td>0.6410</td>\n",
       "      <td>0.2940</td>\n",
       "      <td>0.3350</td>\n",
       "      <td>6</td>\n",
       "      <td>-1</td>\n",
       "    </tr>\n",
       "    <tr>\n",
       "      <th>1426</th>\n",
       "      <td>0.745</td>\n",
       "      <td>0.570</td>\n",
       "      <td>0.215</td>\n",
       "      <td>2.2500</td>\n",
       "      <td>1.1565</td>\n",
       "      <td>0.4460</td>\n",
       "      <td>0.5580</td>\n",
       "      <td>9</td>\n",
       "      <td>-1</td>\n",
       "    </tr>\n",
       "    <tr>\n",
       "      <th>1427</th>\n",
       "      <td>0.750</td>\n",
       "      <td>0.610</td>\n",
       "      <td>0.235</td>\n",
       "      <td>2.5085</td>\n",
       "      <td>1.2320</td>\n",
       "      <td>0.5190</td>\n",
       "      <td>0.6120</td>\n",
       "      <td>14</td>\n",
       "      <td>-1</td>\n",
       "    </tr>\n",
       "    <tr>\n",
       "      <th>1763</th>\n",
       "      <td>0.775</td>\n",
       "      <td>0.630</td>\n",
       "      <td>0.250</td>\n",
       "      <td>2.7795</td>\n",
       "      <td>1.3485</td>\n",
       "      <td>0.7600</td>\n",
       "      <td>0.5780</td>\n",
       "      <td>12</td>\n",
       "      <td>-1</td>\n",
       "    </tr>\n",
       "    <tr>\n",
       "      <th>2051</th>\n",
       "      <td>0.455</td>\n",
       "      <td>0.355</td>\n",
       "      <td>1.130</td>\n",
       "      <td>0.5940</td>\n",
       "      <td>0.3320</td>\n",
       "      <td>0.1160</td>\n",
       "      <td>0.1335</td>\n",
       "      <td>8</td>\n",
       "      <td>-1</td>\n",
       "    </tr>\n",
       "    <tr>\n",
       "      <th>2108</th>\n",
       "      <td>0.665</td>\n",
       "      <td>0.535</td>\n",
       "      <td>0.225</td>\n",
       "      <td>2.1835</td>\n",
       "      <td>0.7535</td>\n",
       "      <td>0.3910</td>\n",
       "      <td>0.8850</td>\n",
       "      <td>27</td>\n",
       "      <td>-1</td>\n",
       "    </tr>\n",
       "    <tr>\n",
       "      <th>2161</th>\n",
       "      <td>0.715</td>\n",
       "      <td>0.565</td>\n",
       "      <td>0.240</td>\n",
       "      <td>2.1995</td>\n",
       "      <td>0.7245</td>\n",
       "      <td>0.4650</td>\n",
       "      <td>0.8850</td>\n",
       "      <td>17</td>\n",
       "      <td>-1</td>\n",
       "    </tr>\n",
       "    <tr>\n",
       "      <th>2201</th>\n",
       "      <td>0.645</td>\n",
       "      <td>0.490</td>\n",
       "      <td>0.215</td>\n",
       "      <td>1.4060</td>\n",
       "      <td>0.4265</td>\n",
       "      <td>0.2285</td>\n",
       "      <td>0.5100</td>\n",
       "      <td>25</td>\n",
       "      <td>-1</td>\n",
       "    </tr>\n",
       "    <tr>\n",
       "      <th>2209</th>\n",
       "      <td>0.550</td>\n",
       "      <td>0.465</td>\n",
       "      <td>0.180</td>\n",
       "      <td>1.2125</td>\n",
       "      <td>0.3245</td>\n",
       "      <td>0.2050</td>\n",
       "      <td>0.5250</td>\n",
       "      <td>27</td>\n",
       "      <td>-1</td>\n",
       "    </tr>\n",
       "    <tr>\n",
       "      <th>2305</th>\n",
       "      <td>0.550</td>\n",
       "      <td>0.415</td>\n",
       "      <td>0.135</td>\n",
       "      <td>0.7750</td>\n",
       "      <td>0.3020</td>\n",
       "      <td>0.1790</td>\n",
       "      <td>0.2600</td>\n",
       "      <td>23</td>\n",
       "      <td>-1</td>\n",
       "    </tr>\n",
       "    <tr>\n",
       "      <th>2334</th>\n",
       "      <td>0.800</td>\n",
       "      <td>0.630</td>\n",
       "      <td>0.195</td>\n",
       "      <td>2.5260</td>\n",
       "      <td>0.9330</td>\n",
       "      <td>0.5900</td>\n",
       "      <td>0.6200</td>\n",
       "      <td>23</td>\n",
       "      <td>-1</td>\n",
       "    </tr>\n",
       "    <tr>\n",
       "      <th>2335</th>\n",
       "      <td>0.610</td>\n",
       "      <td>0.490</td>\n",
       "      <td>0.150</td>\n",
       "      <td>1.1030</td>\n",
       "      <td>0.4250</td>\n",
       "      <td>0.2025</td>\n",
       "      <td>0.3600</td>\n",
       "      <td>23</td>\n",
       "      <td>-1</td>\n",
       "    </tr>\n",
       "    <tr>\n",
       "      <th>2436</th>\n",
       "      <td>0.515</td>\n",
       "      <td>0.400</td>\n",
       "      <td>0.160</td>\n",
       "      <td>0.8175</td>\n",
       "      <td>0.2515</td>\n",
       "      <td>0.1560</td>\n",
       "      <td>0.3000</td>\n",
       "      <td>23</td>\n",
       "      <td>-1</td>\n",
       "    </tr>\n",
       "    <tr>\n",
       "      <th>2811</th>\n",
       "      <td>0.725</td>\n",
       "      <td>0.570</td>\n",
       "      <td>0.190</td>\n",
       "      <td>2.3305</td>\n",
       "      <td>1.2530</td>\n",
       "      <td>0.5410</td>\n",
       "      <td>0.5200</td>\n",
       "      <td>9</td>\n",
       "      <td>-1</td>\n",
       "    </tr>\n",
       "    <tr>\n",
       "      <th>3007</th>\n",
       "      <td>0.730</td>\n",
       "      <td>0.585</td>\n",
       "      <td>0.225</td>\n",
       "      <td>2.2305</td>\n",
       "      <td>1.2395</td>\n",
       "      <td>0.4220</td>\n",
       "      <td>0.5630</td>\n",
       "      <td>14</td>\n",
       "      <td>-1</td>\n",
       "    </tr>\n",
       "    <tr>\n",
       "      <th>3149</th>\n",
       "      <td>0.700</td>\n",
       "      <td>0.540</td>\n",
       "      <td>0.215</td>\n",
       "      <td>1.9780</td>\n",
       "      <td>0.6675</td>\n",
       "      <td>0.3125</td>\n",
       "      <td>0.7100</td>\n",
       "      <td>24</td>\n",
       "      <td>-1</td>\n",
       "    </tr>\n",
       "    <tr>\n",
       "      <th>3280</th>\n",
       "      <td>0.690</td>\n",
       "      <td>0.540</td>\n",
       "      <td>0.185</td>\n",
       "      <td>1.6195</td>\n",
       "      <td>0.5330</td>\n",
       "      <td>0.3530</td>\n",
       "      <td>0.5550</td>\n",
       "      <td>24</td>\n",
       "      <td>-1</td>\n",
       "    </tr>\n",
       "    <tr>\n",
       "      <th>3427</th>\n",
       "      <td>0.740</td>\n",
       "      <td>0.605</td>\n",
       "      <td>0.200</td>\n",
       "      <td>2.4925</td>\n",
       "      <td>1.1455</td>\n",
       "      <td>0.5750</td>\n",
       "      <td>0.5235</td>\n",
       "      <td>13</td>\n",
       "      <td>-1</td>\n",
       "    </tr>\n",
       "  </tbody>\n",
       "</table>\n",
       "</div>"
      ],
      "text/plain": [
       "      length  diameter  height  weight_whole  weight_shucked  weight_viscera  \\\n",
       "129    0.710     0.540   0.165        1.9590          0.7665          0.2610   \n",
       "163    0.725     0.560   0.210        2.1410          0.6500          0.3980   \n",
       "165    0.725     0.570   0.190        2.5500          1.0705          0.4830   \n",
       "166    0.725     0.575   0.175        2.1240          0.7650          0.4515   \n",
       "167    0.680     0.570   0.205        1.8420          0.6250          0.4080   \n",
       "232    0.625     0.505   0.215        1.4455          0.4960          0.2870   \n",
       "236    0.075     0.055   0.010        0.0020          0.0010          0.0005   \n",
       "270    0.640     0.525   0.215        1.7790          0.4535          0.2855   \n",
       "275    0.655     0.540   0.215        1.8440          0.7425          0.3270   \n",
       "294    0.600     0.495   0.195        1.0575          0.3840          0.1900   \n",
       "313    0.620     0.470   0.200        1.2255          0.3810          0.2700   \n",
       "314    0.630     0.485   0.175        1.3000          0.4335          0.2945   \n",
       "351    0.585     0.450   0.170        0.8685          0.3325          0.1635   \n",
       "355    0.700     0.580   0.205        2.1300          0.7415          0.4900   \n",
       "358    0.745     0.585   0.215        2.4990          0.9265          0.4720   \n",
       "433    0.545     0.420   0.140        0.7505          0.2475          0.1300   \n",
       "480    0.700     0.585   0.185        1.8075          0.7055          0.3215   \n",
       "501    0.620     0.520   0.225        1.1835          0.3780          0.2700   \n",
       "673    0.490     0.390   0.150        0.5730          0.2250          0.1240   \n",
       "674    0.490     0.385   0.150        0.7865          0.2410          0.1400   \n",
       "675    0.520     0.395   0.180        0.6400          0.1580          0.1100   \n",
       "678    0.450     0.380   0.165        0.8165          0.2500          0.1915   \n",
       "719    0.150     0.100   0.025        0.0150          0.0045          0.0040   \n",
       "811    0.490     0.365   0.130        0.6835          0.1650          0.1315   \n",
       "882    0.655     0.580   0.205        2.0805          0.9590          0.3415   \n",
       "891    0.730     0.595   0.230        2.8255          1.1465          0.4190   \n",
       "1039   0.660     0.475   0.180        1.3695          0.6410          0.2940   \n",
       "1426   0.745     0.570   0.215        2.2500          1.1565          0.4460   \n",
       "1427   0.750     0.610   0.235        2.5085          1.2320          0.5190   \n",
       "1763   0.775     0.630   0.250        2.7795          1.3485          0.7600   \n",
       "2051   0.455     0.355   1.130        0.5940          0.3320          0.1160   \n",
       "2108   0.665     0.535   0.225        2.1835          0.7535          0.3910   \n",
       "2161   0.715     0.565   0.240        2.1995          0.7245          0.4650   \n",
       "2201   0.645     0.490   0.215        1.4060          0.4265          0.2285   \n",
       "2209   0.550     0.465   0.180        1.2125          0.3245          0.2050   \n",
       "2305   0.550     0.415   0.135        0.7750          0.3020          0.1790   \n",
       "2334   0.800     0.630   0.195        2.5260          0.9330          0.5900   \n",
       "2335   0.610     0.490   0.150        1.1030          0.4250          0.2025   \n",
       "2436   0.515     0.400   0.160        0.8175          0.2515          0.1560   \n",
       "2811   0.725     0.570   0.190        2.3305          1.2530          0.5410   \n",
       "3007   0.730     0.585   0.225        2.2305          1.2395          0.4220   \n",
       "3149   0.700     0.540   0.215        1.9780          0.6675          0.3125   \n",
       "3280   0.690     0.540   0.185        1.6195          0.5330          0.3530   \n",
       "3427   0.740     0.605   0.200        2.4925          1.1455          0.5750   \n",
       "\n",
       "      weight_shell  rings  dbscan_label  \n",
       "129         0.7800     18            -1  \n",
       "163         1.0050     18            -1  \n",
       "165         0.7250     14            -1  \n",
       "166         0.8500     20            -1  \n",
       "167         0.6500     20            -1  \n",
       "232         0.4350     22            -1  \n",
       "236         0.0015      1            -1  \n",
       "270         0.5500     22            -1  \n",
       "275         0.5850     22            -1  \n",
       "294         0.3750     26            -1  \n",
       "313         0.4350     23            -1  \n",
       "314         0.4600     23            -1  \n",
       "351         0.2700     22            -1  \n",
       "355         0.5800     20            -1  \n",
       "358         0.7000     17            -1  \n",
       "433         0.2550     22            -1  \n",
       "480         0.4750     29            -1  \n",
       "501         0.3950     23            -1  \n",
       "673         0.1700     21            -1  \n",
       "674         0.2400     23            -1  \n",
       "675         0.2450     22            -1  \n",
       "678         0.2650     23            -1  \n",
       "719         0.0050      2            -1  \n",
       "811         0.2050     21            -1  \n",
       "882         0.6010     17            -1  \n",
       "891         0.8970     17            -1  \n",
       "1039        0.3350      6            -1  \n",
       "1426        0.5580      9            -1  \n",
       "1427        0.6120     14            -1  \n",
       "1763        0.5780     12            -1  \n",
       "2051        0.1335      8            -1  \n",
       "2108        0.8850     27            -1  \n",
       "2161        0.8850     17            -1  \n",
       "2201        0.5100     25            -1  \n",
       "2209        0.5250     27            -1  \n",
       "2305        0.2600     23            -1  \n",
       "2334        0.6200     23            -1  \n",
       "2335        0.3600     23            -1  \n",
       "2436        0.3000     23            -1  \n",
       "2811        0.5200      9            -1  \n",
       "3007        0.5630     14            -1  \n",
       "3149        0.7100     24            -1  \n",
       "3280        0.5550     24            -1  \n",
       "3427        0.5235     13            -1  "
      ]
     },
     "execution_count": 38,
     "metadata": {},
     "output_type": "execute_result"
    }
   ],
   "source": [
    "outliers_dbscan"
   ]
  },
  {
   "cell_type": "code",
   "execution_count": 39,
   "metadata": {},
   "outputs": [],
   "source": [
    "outliers_dbscan.to_csv(\"outliers_dbscan.csv\", sep = \",\")"
   ]
  },
  {
   "cell_type": "code",
   "execution_count": 40,
   "metadata": {},
   "outputs": [
    {
     "data": {
      "image/png": "[encoded data removed]",
      "text/plain": [
       "<matplotlib.figure.Figure at 0x2e1afece0f0>"
      ]
     },
     "metadata": {},
     "output_type": "display_data"
    }
   ],
   "source": [
    "X = abalone_data.as_matrix()\n",
    "y_pred = dbscan.labels_\n",
    "y_outliers = X[y_pred==-1]\n",
    "a = plt.scatter(X[:, 1], X[:, 2], c='white', edgecolor='k', s=20)\n",
    "b = plt.scatter(y_outliers[:, 1], y_outliers[:, 2], c='red', edgecolor='k', s=20)\n",
    "plt.show()"
   ]
  },
  {
   "cell_type": "code",
   "execution_count": 41,
   "metadata": {},
   "outputs": [
    {
     "data": {
      "image/png": "[encoded data removed]",
      "text/plain": [
       "<matplotlib.figure.Figure at 0x2e1aae533c8>"
      ]
     },
     "metadata": {},
     "output_type": "display_data"
    }
   ],
   "source": [
    "a = plt.scatter(X[:, 2], X[:, 3], c='white', edgecolor='k', s=20)\n",
    "b = plt.scatter(y_outliers[:, 2], y_outliers[:, 3], c='red', edgecolor='k', s=20)\n",
    "plt.show()"
   ]
  },
  {
   "cell_type": "code",
   "execution_count": 42,
   "metadata": {},
   "outputs": [
    {
     "data": {
      "image/png": "[encoded data removed]",
      "text/plain": [
       "<matplotlib.figure.Figure at 0x2e1affd8550>"
      ]
     },
     "metadata": {},
     "output_type": "display_data"
    }
   ],
   "source": [
    "a = plt.scatter(X[:, 3], X[:, 4], c='white', edgecolor='k', s=20)\n",
    "b = plt.scatter(y_outliers[:, 3], y_outliers[:, 4], c='red', edgecolor='k', s=20)\n",
    "plt.show()"
   ]
  },
  {
   "cell_type": "code",
   "execution_count": 43,
   "metadata": {},
   "outputs": [
    {
     "data": {
      "image/png": "[encoded data removed]",
      "text/plain": [
       "<matplotlib.figure.Figure at 0x2e1b0fff550>"
      ]
     },
     "metadata": {},
     "output_type": "display_data"
    }
   ],
   "source": [
    "a = plt.scatter(X[:, 1], X[:, 3], c='white', edgecolor='k', s=20)\n",
    "b = plt.scatter(y_outliers[:, 1], y_outliers[:, 3], c='red', edgecolor='k', s=20)\n",
    "plt.show()"
   ]
  },
  {
   "cell_type": "code",
   "execution_count": 44,
   "metadata": {},
   "outputs": [
    {
     "data": {
      "image/png": "[encoded data removed]",
      "text/plain": [
       "<matplotlib.figure.Figure at 0x2e1b105e748>"
      ]
     },
     "metadata": {},
     "output_type": "display_data"
    }
   ],
   "source": [
    "a = plt.scatter(X[:, 1], X[:, 4], c='white', edgecolor='k', s=20)\n",
    "b = plt.scatter(y_outliers[:, 1], y_outliers[:, 4], c='red', edgecolor='k', s=20)\n",
    "plt.show()"
   ]
  },
  {
   "cell_type": "code",
   "execution_count": 45,
   "metadata": {},
   "outputs": [
    {
     "data": {
      "image/png": "[encoded data removed]",
      "text/plain": [
       "<matplotlib.figure.Figure at 0x2e1b10bdb00>"
      ]
     },
     "metadata": {},
     "output_type": "display_data"
    }
   ],
   "source": [
    "a = plt.scatter(X[:, 2], X[:, 4], c='white', edgecolor='k', s=20)\n",
    "b = plt.scatter(y_outliers[:, 2], y_outliers[:, 4], c='red', edgecolor='k', s=20)\n",
    "plt.show()"
   ]
  },
  {
   "cell_type": "code",
   "execution_count": 46,
   "metadata": {},
   "outputs": [
    {
     "data": {
      "image/png": "[encoded data removed]",
      "text/plain": [
       "<matplotlib.figure.Figure at 0x2e1b115c9b0>"
      ]
     },
     "metadata": {},
     "output_type": "display_data"
    }
   ],
   "source": [
    "a = plt.scatter(X[:, 0], X[:, 1], c='white', edgecolor='k', s=20)\n",
    "b = plt.scatter(y_outliers[:, 0], y_outliers[:, 1], c='red', edgecolor='k', s=20)\n",
    "plt.show()"
   ]
  },
  {
   "cell_type": "markdown",
   "metadata": {},
   "source": [
    "## Local Outlier Factor"
   ]
  },
  {
   "cell_type": "markdown",
   "metadata": {},
   "source": [
    "### Example taken from: http://scikit-learn.org/stable/auto_examples/neighbors/plot_lof.html"
   ]
  },
  {
   "cell_type": "code",
   "execution_count": 1,
   "metadata": {},
   "outputs": [],
   "source": [
    "%matplotlib inline"
   ]
  },
  {
   "cell_type": "markdown",
   "metadata": {},
   "source": [
    "## Anomaly detection with Local Outlier Factor (LOF)\n",
    "\n",
    "This example presents the Local Outlier Factor (LOF) estimator. The LOF\n",
    "algorithm is an unsupervised outlier detection method which computes the local\n",
    "density deviation of a given data point with respect to its neighbors.\n",
    "It considers as outlier samples that have a substantially lower density than\n",
    "their neighbors.\n",
    "\n",
    "The number of neighbors considered, (parameter n_neighbors) is typically\n",
    "chosen 1) greater than the minimum number of objects a cluster has to contain,\n",
    "so that other objects can be local outliers relative to this cluster, and 2)\n",
    "smaller than the maximum number of close by objects that can potentially be\n",
    "local outliers.\n",
    "In practice, such informations are generally not available, and taking\n",
    "n_neighbors=20 appears to work well in general.\n"
   ]
  },
  {
   "cell_type": "code",
   "execution_count": 5,
   "metadata": {},
   "outputs": [
    {
     "name": "stdout",
     "output_type": "stream",
     "text": [
      "Automatically created module for IPython interactive environment\n"
     ]
    }
   ],
   "source": [
    "print(__doc__)\n",
    "\n",
    "import numpy as np\n",
    "import matplotlib.pyplot as plt\n",
    "from sklearn.neighbors import LocalOutlierFactor\n",
    "import pandas as pd\n",
    "\n",
    "abalone_data = pd.read_csv(\"abalone_dataset.csv\")\n",
    "abalone_data = abalone_data.drop('sex', axis = 1)\n",
    "\n",
    "X = abalone_data.as_matrix()\n",
    "\n",
    "# fit the model\n",
    "clf = LocalOutlierFactor(n_neighbors=20, contamination = 0.01)\n",
    "y_pred = clf.fit_predict(X)"
   ]
  },
  {
   "cell_type": "code",
   "execution_count": 6,
   "metadata": {},
   "outputs": [
    {
     "data": {
      "text/plain": [
       "array([[ 0.455 ,  0.365 ,  0.095 , ...,  0.101 ,  0.15  , 15.    ],\n",
       "       [ 0.35  ,  0.265 ,  0.09  , ...,  0.0485,  0.07  ,  7.    ],\n",
       "       [ 0.53  ,  0.42  ,  0.135 , ...,  0.1415,  0.21  ,  9.    ],\n",
       "       ...,\n",
       "       [ 0.6   ,  0.475 ,  0.205 , ...,  0.2875,  0.308 ,  9.    ],\n",
       "       [ 0.625 ,  0.485 ,  0.15  , ...,  0.261 ,  0.296 , 10.    ],\n",
       "       [ 0.71  ,  0.555 ,  0.195 , ...,  0.3765,  0.495 , 12.    ]])"
      ]
     },
     "execution_count": 6,
     "metadata": {},
     "output_type": "execute_result"
    }
   ],
   "source": [
    "X"
   ]
  },
  {
   "cell_type": "code",
   "execution_count": 7,
   "metadata": {},
   "outputs": [
    {
     "data": {
      "text/plain": [
       "4177"
      ]
     },
     "execution_count": 7,
     "metadata": {},
     "output_type": "execute_result"
    }
   ],
   "source": [
    "len(y_pred)"
   ]
  },
  {
   "cell_type": "code",
   "execution_count": 8,
   "metadata": {},
   "outputs": [],
   "source": [
    "abalone_data['outliers'] = y_pred"
   ]
  },
  {
   "cell_type": "code",
   "execution_count": 9,
   "metadata": {},
   "outputs": [
    {
     "data": {
      "text/plain": [
       "42"
      ]
     },
     "execution_count": 9,
     "metadata": {},
     "output_type": "execute_result"
    }
   ],
   "source": [
    "len(abalone_data[abalone_data['outliers'] == -1])"
   ]
  },
  {
   "cell_type": "code",
   "execution_count": 10,
   "metadata": {},
   "outputs": [
    {
     "data": {
      "text/html": [
       "<div>\n",
       "<style>\n",
       "    .dataframe thead tr:only-child th {\n",
       "        text-align: right;\n",
       "    }\n",
       "\n",
       "    .dataframe thead th {\n",
       "        text-align: left;\n",
       "    }\n",
       "\n",
       "    .dataframe tbody tr th {\n",
       "        vertical-align: top;\n",
       "    }\n",
       "</style>\n",
       "<table border=\"1\" class=\"dataframe\">\n",
       "  <thead>\n",
       "    <tr style=\"text-align: right;\">\n",
       "      <th></th>\n",
       "      <th>length</th>\n",
       "      <th>diameter</th>\n",
       "      <th>height</th>\n",
       "      <th>weight_whole</th>\n",
       "      <th>weight_shucked</th>\n",
       "      <th>weight_viscera</th>\n",
       "      <th>weight_shell</th>\n",
       "      <th>rings</th>\n",
       "      <th>outliers</th>\n",
       "    </tr>\n",
       "  </thead>\n",
       "  <tbody>\n",
       "    <tr>\n",
       "      <th>236</th>\n",
       "      <td>0.075</td>\n",
       "      <td>0.055</td>\n",
       "      <td>0.010</td>\n",
       "      <td>0.0020</td>\n",
       "      <td>0.0010</td>\n",
       "      <td>0.0005</td>\n",
       "      <td>0.0015</td>\n",
       "      <td>1</td>\n",
       "      <td>-1</td>\n",
       "    </tr>\n",
       "    <tr>\n",
       "      <th>237</th>\n",
       "      <td>0.130</td>\n",
       "      <td>0.100</td>\n",
       "      <td>0.030</td>\n",
       "      <td>0.0130</td>\n",
       "      <td>0.0045</td>\n",
       "      <td>0.0030</td>\n",
       "      <td>0.0040</td>\n",
       "      <td>3</td>\n",
       "      <td>-1</td>\n",
       "    </tr>\n",
       "    <tr>\n",
       "      <th>238</th>\n",
       "      <td>0.110</td>\n",
       "      <td>0.090</td>\n",
       "      <td>0.030</td>\n",
       "      <td>0.0080</td>\n",
       "      <td>0.0025</td>\n",
       "      <td>0.0020</td>\n",
       "      <td>0.0030</td>\n",
       "      <td>3</td>\n",
       "      <td>-1</td>\n",
       "    </tr>\n",
       "    <tr>\n",
       "      <th>306</th>\n",
       "      <td>0.165</td>\n",
       "      <td>0.120</td>\n",
       "      <td>0.030</td>\n",
       "      <td>0.0215</td>\n",
       "      <td>0.0070</td>\n",
       "      <td>0.0050</td>\n",
       "      <td>0.0050</td>\n",
       "      <td>3</td>\n",
       "      <td>-1</td>\n",
       "    </tr>\n",
       "    <tr>\n",
       "      <th>480</th>\n",
       "      <td>0.700</td>\n",
       "      <td>0.585</td>\n",
       "      <td>0.185</td>\n",
       "      <td>1.8075</td>\n",
       "      <td>0.7055</td>\n",
       "      <td>0.3215</td>\n",
       "      <td>0.4750</td>\n",
       "      <td>29</td>\n",
       "      <td>-1</td>\n",
       "    </tr>\n",
       "    <tr>\n",
       "      <th>520</th>\n",
       "      <td>0.210</td>\n",
       "      <td>0.150</td>\n",
       "      <td>0.050</td>\n",
       "      <td>0.0385</td>\n",
       "      <td>0.0155</td>\n",
       "      <td>0.0085</td>\n",
       "      <td>0.0100</td>\n",
       "      <td>3</td>\n",
       "      <td>-1</td>\n",
       "    </tr>\n",
       "    <tr>\n",
       "      <th>526</th>\n",
       "      <td>0.155</td>\n",
       "      <td>0.110</td>\n",
       "      <td>0.040</td>\n",
       "      <td>0.0155</td>\n",
       "      <td>0.0065</td>\n",
       "      <td>0.0030</td>\n",
       "      <td>0.0050</td>\n",
       "      <td>3</td>\n",
       "      <td>-1</td>\n",
       "    </tr>\n",
       "    <tr>\n",
       "      <th>719</th>\n",
       "      <td>0.150</td>\n",
       "      <td>0.100</td>\n",
       "      <td>0.025</td>\n",
       "      <td>0.0150</td>\n",
       "      <td>0.0045</td>\n",
       "      <td>0.0040</td>\n",
       "      <td>0.0050</td>\n",
       "      <td>2</td>\n",
       "      <td>-1</td>\n",
       "    </tr>\n",
       "    <tr>\n",
       "      <th>720</th>\n",
       "      <td>0.160</td>\n",
       "      <td>0.110</td>\n",
       "      <td>0.025</td>\n",
       "      <td>0.0180</td>\n",
       "      <td>0.0065</td>\n",
       "      <td>0.0055</td>\n",
       "      <td>0.0050</td>\n",
       "      <td>3</td>\n",
       "      <td>-1</td>\n",
       "    </tr>\n",
       "    <tr>\n",
       "      <th>860</th>\n",
       "      <td>0.595</td>\n",
       "      <td>0.475</td>\n",
       "      <td>0.160</td>\n",
       "      <td>1.1405</td>\n",
       "      <td>0.5470</td>\n",
       "      <td>0.2310</td>\n",
       "      <td>0.2710</td>\n",
       "      <td>6</td>\n",
       "      <td>-1</td>\n",
       "    </tr>\n",
       "    <tr>\n",
       "      <th>894</th>\n",
       "      <td>0.240</td>\n",
       "      <td>0.175</td>\n",
       "      <td>0.065</td>\n",
       "      <td>0.0665</td>\n",
       "      <td>0.0310</td>\n",
       "      <td>0.0135</td>\n",
       "      <td>0.0170</td>\n",
       "      <td>3</td>\n",
       "      <td>-1</td>\n",
       "    </tr>\n",
       "    <tr>\n",
       "      <th>1039</th>\n",
       "      <td>0.660</td>\n",
       "      <td>0.475</td>\n",
       "      <td>0.180</td>\n",
       "      <td>1.3695</td>\n",
       "      <td>0.6410</td>\n",
       "      <td>0.2940</td>\n",
       "      <td>0.3350</td>\n",
       "      <td>6</td>\n",
       "      <td>-1</td>\n",
       "    </tr>\n",
       "    <tr>\n",
       "      <th>1044</th>\n",
       "      <td>0.690</td>\n",
       "      <td>0.525</td>\n",
       "      <td>0.175</td>\n",
       "      <td>1.7005</td>\n",
       "      <td>0.8255</td>\n",
       "      <td>0.3620</td>\n",
       "      <td>0.4050</td>\n",
       "      <td>8</td>\n",
       "      <td>-1</td>\n",
       "    </tr>\n",
       "    <tr>\n",
       "      <th>1054</th>\n",
       "      <td>0.195</td>\n",
       "      <td>0.150</td>\n",
       "      <td>0.045</td>\n",
       "      <td>0.0375</td>\n",
       "      <td>0.0180</td>\n",
       "      <td>0.0060</td>\n",
       "      <td>0.0110</td>\n",
       "      <td>3</td>\n",
       "      <td>-1</td>\n",
       "    </tr>\n",
       "    <tr>\n",
       "      <th>1210</th>\n",
       "      <td>0.185</td>\n",
       "      <td>0.375</td>\n",
       "      <td>0.120</td>\n",
       "      <td>0.4645</td>\n",
       "      <td>0.1960</td>\n",
       "      <td>0.1045</td>\n",
       "      <td>0.1500</td>\n",
       "      <td>6</td>\n",
       "      <td>-1</td>\n",
       "    </tr>\n",
       "    <tr>\n",
       "      <th>1216</th>\n",
       "      <td>0.310</td>\n",
       "      <td>0.225</td>\n",
       "      <td>0.070</td>\n",
       "      <td>0.1055</td>\n",
       "      <td>0.4350</td>\n",
       "      <td>0.0150</td>\n",
       "      <td>0.0400</td>\n",
       "      <td>5</td>\n",
       "      <td>-1</td>\n",
       "    </tr>\n",
       "    <tr>\n",
       "      <th>1228</th>\n",
       "      <td>0.360</td>\n",
       "      <td>0.270</td>\n",
       "      <td>0.085</td>\n",
       "      <td>0.1960</td>\n",
       "      <td>0.0875</td>\n",
       "      <td>0.0350</td>\n",
       "      <td>0.0640</td>\n",
       "      <td>4</td>\n",
       "      <td>-1</td>\n",
       "    </tr>\n",
       "    <tr>\n",
       "      <th>1264</th>\n",
       "      <td>0.455</td>\n",
       "      <td>0.330</td>\n",
       "      <td>0.100</td>\n",
       "      <td>0.3720</td>\n",
       "      <td>0.3580</td>\n",
       "      <td>0.0775</td>\n",
       "      <td>0.1100</td>\n",
       "      <td>8</td>\n",
       "      <td>-1</td>\n",
       "    </tr>\n",
       "    <tr>\n",
       "      <th>1426</th>\n",
       "      <td>0.745</td>\n",
       "      <td>0.570</td>\n",
       "      <td>0.215</td>\n",
       "      <td>2.2500</td>\n",
       "      <td>1.1565</td>\n",
       "      <td>0.4460</td>\n",
       "      <td>0.5580</td>\n",
       "      <td>9</td>\n",
       "      <td>-1</td>\n",
       "    </tr>\n",
       "    <tr>\n",
       "      <th>1429</th>\n",
       "      <td>0.140</td>\n",
       "      <td>0.105</td>\n",
       "      <td>0.035</td>\n",
       "      <td>0.0140</td>\n",
       "      <td>0.0055</td>\n",
       "      <td>0.0025</td>\n",
       "      <td>0.0040</td>\n",
       "      <td>3</td>\n",
       "      <td>-1</td>\n",
       "    </tr>\n",
       "    <tr>\n",
       "      <th>1755</th>\n",
       "      <td>0.720</td>\n",
       "      <td>0.525</td>\n",
       "      <td>0.180</td>\n",
       "      <td>1.4450</td>\n",
       "      <td>0.6310</td>\n",
       "      <td>0.3215</td>\n",
       "      <td>0.4350</td>\n",
       "      <td>7</td>\n",
       "      <td>-1</td>\n",
       "    </tr>\n",
       "    <tr>\n",
       "      <th>2051</th>\n",
       "      <td>0.455</td>\n",
       "      <td>0.355</td>\n",
       "      <td>1.130</td>\n",
       "      <td>0.5940</td>\n",
       "      <td>0.3320</td>\n",
       "      <td>0.1160</td>\n",
       "      <td>0.1335</td>\n",
       "      <td>8</td>\n",
       "      <td>-1</td>\n",
       "    </tr>\n",
       "    <tr>\n",
       "      <th>2115</th>\n",
       "      <td>0.180</td>\n",
       "      <td>0.130</td>\n",
       "      <td>0.045</td>\n",
       "      <td>0.0275</td>\n",
       "      <td>0.0125</td>\n",
       "      <td>0.0100</td>\n",
       "      <td>0.0090</td>\n",
       "      <td>3</td>\n",
       "      <td>-1</td>\n",
       "    </tr>\n",
       "    <tr>\n",
       "      <th>2123</th>\n",
       "      <td>0.290</td>\n",
       "      <td>0.210</td>\n",
       "      <td>0.075</td>\n",
       "      <td>0.2750</td>\n",
       "      <td>0.1130</td>\n",
       "      <td>0.0675</td>\n",
       "      <td>0.0350</td>\n",
       "      <td>6</td>\n",
       "      <td>-1</td>\n",
       "    </tr>\n",
       "    <tr>\n",
       "      <th>2127</th>\n",
       "      <td>0.400</td>\n",
       "      <td>0.310</td>\n",
       "      <td>0.100</td>\n",
       "      <td>0.1270</td>\n",
       "      <td>0.1060</td>\n",
       "      <td>0.0710</td>\n",
       "      <td>0.0850</td>\n",
       "      <td>7</td>\n",
       "      <td>-1</td>\n",
       "    </tr>\n",
       "    <tr>\n",
       "      <th>2371</th>\n",
       "      <td>0.180</td>\n",
       "      <td>0.125</td>\n",
       "      <td>0.050</td>\n",
       "      <td>0.0230</td>\n",
       "      <td>0.0085</td>\n",
       "      <td>0.0055</td>\n",
       "      <td>0.0100</td>\n",
       "      <td>3</td>\n",
       "      <td>-1</td>\n",
       "    </tr>\n",
       "    <tr>\n",
       "      <th>2619</th>\n",
       "      <td>0.690</td>\n",
       "      <td>0.540</td>\n",
       "      <td>0.185</td>\n",
       "      <td>1.7100</td>\n",
       "      <td>0.7725</td>\n",
       "      <td>0.3855</td>\n",
       "      <td>0.4325</td>\n",
       "      <td>8</td>\n",
       "      <td>-1</td>\n",
       "    </tr>\n",
       "    <tr>\n",
       "      <th>2627</th>\n",
       "      <td>0.275</td>\n",
       "      <td>0.205</td>\n",
       "      <td>0.070</td>\n",
       "      <td>0.1055</td>\n",
       "      <td>0.4950</td>\n",
       "      <td>0.0190</td>\n",
       "      <td>0.0315</td>\n",
       "      <td>5</td>\n",
       "      <td>-1</td>\n",
       "    </tr>\n",
       "    <tr>\n",
       "      <th>2641</th>\n",
       "      <td>0.475</td>\n",
       "      <td>0.365</td>\n",
       "      <td>0.100</td>\n",
       "      <td>0.1315</td>\n",
       "      <td>0.2025</td>\n",
       "      <td>0.0875</td>\n",
       "      <td>0.1230</td>\n",
       "      <td>7</td>\n",
       "      <td>-1</td>\n",
       "    </tr>\n",
       "    <tr>\n",
       "      <th>2711</th>\n",
       "      <td>0.190</td>\n",
       "      <td>0.140</td>\n",
       "      <td>0.030</td>\n",
       "      <td>0.0315</td>\n",
       "      <td>0.0125</td>\n",
       "      <td>0.0050</td>\n",
       "      <td>0.0105</td>\n",
       "      <td>3</td>\n",
       "      <td>-1</td>\n",
       "    </tr>\n",
       "    <tr>\n",
       "      <th>2728</th>\n",
       "      <td>0.405</td>\n",
       "      <td>0.310</td>\n",
       "      <td>0.110</td>\n",
       "      <td>0.9100</td>\n",
       "      <td>0.4160</td>\n",
       "      <td>0.2075</td>\n",
       "      <td>0.0995</td>\n",
       "      <td>8</td>\n",
       "      <td>-1</td>\n",
       "    </tr>\n",
       "    <tr>\n",
       "      <th>2790</th>\n",
       "      <td>0.620</td>\n",
       "      <td>0.480</td>\n",
       "      <td>0.165</td>\n",
       "      <td>1.0125</td>\n",
       "      <td>0.5325</td>\n",
       "      <td>0.4365</td>\n",
       "      <td>0.3240</td>\n",
       "      <td>10</td>\n",
       "      <td>-1</td>\n",
       "    </tr>\n",
       "    <tr>\n",
       "      <th>2811</th>\n",
       "      <td>0.725</td>\n",
       "      <td>0.570</td>\n",
       "      <td>0.190</td>\n",
       "      <td>2.3305</td>\n",
       "      <td>1.2530</td>\n",
       "      <td>0.5410</td>\n",
       "      <td>0.5200</td>\n",
       "      <td>9</td>\n",
       "      <td>-1</td>\n",
       "    </tr>\n",
       "    <tr>\n",
       "      <th>2975</th>\n",
       "      <td>0.320</td>\n",
       "      <td>0.215</td>\n",
       "      <td>0.095</td>\n",
       "      <td>0.3050</td>\n",
       "      <td>0.1400</td>\n",
       "      <td>0.0670</td>\n",
       "      <td>0.0885</td>\n",
       "      <td>6</td>\n",
       "      <td>-1</td>\n",
       "    </tr>\n",
       "    <tr>\n",
       "      <th>3086</th>\n",
       "      <td>0.355</td>\n",
       "      <td>0.270</td>\n",
       "      <td>0.075</td>\n",
       "      <td>0.2040</td>\n",
       "      <td>0.3045</td>\n",
       "      <td>0.0460</td>\n",
       "      <td>0.0595</td>\n",
       "      <td>7</td>\n",
       "      <td>-1</td>\n",
       "    </tr>\n",
       "    <tr>\n",
       "      <th>3472</th>\n",
       "      <td>0.165</td>\n",
       "      <td>0.120</td>\n",
       "      <td>0.050</td>\n",
       "      <td>0.0210</td>\n",
       "      <td>0.0075</td>\n",
       "      <td>0.0045</td>\n",
       "      <td>0.0140</td>\n",
       "      <td>3</td>\n",
       "      <td>-1</td>\n",
       "    </tr>\n",
       "    <tr>\n",
       "      <th>3521</th>\n",
       "      <td>0.215</td>\n",
       "      <td>0.150</td>\n",
       "      <td>0.055</td>\n",
       "      <td>0.0410</td>\n",
       "      <td>0.0150</td>\n",
       "      <td>0.0090</td>\n",
       "      <td>0.0125</td>\n",
       "      <td>3</td>\n",
       "      <td>-1</td>\n",
       "    </tr>\n",
       "    <tr>\n",
       "      <th>3716</th>\n",
       "      <td>0.235</td>\n",
       "      <td>0.130</td>\n",
       "      <td>0.075</td>\n",
       "      <td>0.1585</td>\n",
       "      <td>0.0685</td>\n",
       "      <td>0.0370</td>\n",
       "      <td>0.0465</td>\n",
       "      <td>5</td>\n",
       "      <td>-1</td>\n",
       "    </tr>\n",
       "    <tr>\n",
       "      <th>3718</th>\n",
       "      <td>0.360</td>\n",
       "      <td>0.250</td>\n",
       "      <td>0.115</td>\n",
       "      <td>0.4650</td>\n",
       "      <td>0.2100</td>\n",
       "      <td>0.1055</td>\n",
       "      <td>0.1280</td>\n",
       "      <td>7</td>\n",
       "      <td>-1</td>\n",
       "    </tr>\n",
       "    <tr>\n",
       "      <th>3801</th>\n",
       "      <td>0.205</td>\n",
       "      <td>0.155</td>\n",
       "      <td>0.045</td>\n",
       "      <td>0.0495</td>\n",
       "      <td>0.0235</td>\n",
       "      <td>0.0110</td>\n",
       "      <td>0.0140</td>\n",
       "      <td>3</td>\n",
       "      <td>-1</td>\n",
       "    </tr>\n",
       "    <tr>\n",
       "      <th>3814</th>\n",
       "      <td>0.380</td>\n",
       "      <td>0.275</td>\n",
       "      <td>0.095</td>\n",
       "      <td>0.2425</td>\n",
       "      <td>0.1060</td>\n",
       "      <td>0.0485</td>\n",
       "      <td>0.2100</td>\n",
       "      <td>6</td>\n",
       "      <td>-1</td>\n",
       "    </tr>\n",
       "    <tr>\n",
       "      <th>3996</th>\n",
       "      <td>0.315</td>\n",
       "      <td>0.230</td>\n",
       "      <td>0.000</td>\n",
       "      <td>0.1340</td>\n",
       "      <td>0.0575</td>\n",
       "      <td>0.0285</td>\n",
       "      <td>0.3505</td>\n",
       "      <td>6</td>\n",
       "      <td>-1</td>\n",
       "    </tr>\n",
       "  </tbody>\n",
       "</table>\n",
       "</div>"
      ],
      "text/plain": [
       "      length  diameter  height  weight_whole  weight_shucked  weight_viscera  \\\n",
       "236    0.075     0.055   0.010        0.0020          0.0010          0.0005   \n",
       "237    0.130     0.100   0.030        0.0130          0.0045          0.0030   \n",
       "238    0.110     0.090   0.030        0.0080          0.0025          0.0020   \n",
       "306    0.165     0.120   0.030        0.0215          0.0070          0.0050   \n",
       "480    0.700     0.585   0.185        1.8075          0.7055          0.3215   \n",
       "520    0.210     0.150   0.050        0.0385          0.0155          0.0085   \n",
       "526    0.155     0.110   0.040        0.0155          0.0065          0.0030   \n",
       "719    0.150     0.100   0.025        0.0150          0.0045          0.0040   \n",
       "720    0.160     0.110   0.025        0.0180          0.0065          0.0055   \n",
       "860    0.595     0.475   0.160        1.1405          0.5470          0.2310   \n",
       "894    0.240     0.175   0.065        0.0665          0.0310          0.0135   \n",
       "1039   0.660     0.475   0.180        1.3695          0.6410          0.2940   \n",
       "1044   0.690     0.525   0.175        1.7005          0.8255          0.3620   \n",
       "1054   0.195     0.150   0.045        0.0375          0.0180          0.0060   \n",
       "1210   0.185     0.375   0.120        0.4645          0.1960          0.1045   \n",
       "1216   0.310     0.225   0.070        0.1055          0.4350          0.0150   \n",
       "1228   0.360     0.270   0.085        0.1960          0.0875          0.0350   \n",
       "1264   0.455     0.330   0.100        0.3720          0.3580          0.0775   \n",
       "1426   0.745     0.570   0.215        2.2500          1.1565          0.4460   \n",
       "1429   0.140     0.105   0.035        0.0140          0.0055          0.0025   \n",
       "1755   0.720     0.525   0.180        1.4450          0.6310          0.3215   \n",
       "2051   0.455     0.355   1.130        0.5940          0.3320          0.1160   \n",
       "2115   0.180     0.130   0.045        0.0275          0.0125          0.0100   \n",
       "2123   0.290     0.210   0.075        0.2750          0.1130          0.0675   \n",
       "2127   0.400     0.310   0.100        0.1270          0.1060          0.0710   \n",
       "2371   0.180     0.125   0.050        0.0230          0.0085          0.0055   \n",
       "2619   0.690     0.540   0.185        1.7100          0.7725          0.3855   \n",
       "2627   0.275     0.205   0.070        0.1055          0.4950          0.0190   \n",
       "2641   0.475     0.365   0.100        0.1315          0.2025          0.0875   \n",
       "2711   0.190     0.140   0.030        0.0315          0.0125          0.0050   \n",
       "2728   0.405     0.310   0.110        0.9100          0.4160          0.2075   \n",
       "2790   0.620     0.480   0.165        1.0125          0.5325          0.4365   \n",
       "2811   0.725     0.570   0.190        2.3305          1.2530          0.5410   \n",
       "2975   0.320     0.215   0.095        0.3050          0.1400          0.0670   \n",
       "3086   0.355     0.270   0.075        0.2040          0.3045          0.0460   \n",
       "3472   0.165     0.120   0.050        0.0210          0.0075          0.0045   \n",
       "3521   0.215     0.150   0.055        0.0410          0.0150          0.0090   \n",
       "3716   0.235     0.130   0.075        0.1585          0.0685          0.0370   \n",
       "3718   0.360     0.250   0.115        0.4650          0.2100          0.1055   \n",
       "3801   0.205     0.155   0.045        0.0495          0.0235          0.0110   \n",
       "3814   0.380     0.275   0.095        0.2425          0.1060          0.0485   \n",
       "3996   0.315     0.230   0.000        0.1340          0.0575          0.0285   \n",
       "\n",
       "      weight_shell  rings  outliers  \n",
       "236         0.0015      1        -1  \n",
       "237         0.0040      3        -1  \n",
       "238         0.0030      3        -1  \n",
       "306         0.0050      3        -1  \n",
       "480         0.4750     29        -1  \n",
       "520         0.0100      3        -1  \n",
       "526         0.0050      3        -1  \n",
       "719         0.0050      2        -1  \n",
       "720         0.0050      3        -1  \n",
       "860         0.2710      6        -1  \n",
       "894         0.0170      3        -1  \n",
       "1039        0.3350      6        -1  \n",
       "1044        0.4050      8        -1  \n",
       "1054        0.0110      3        -1  \n",
       "1210        0.1500      6        -1  \n",
       "1216        0.0400      5        -1  \n",
       "1228        0.0640      4        -1  \n",
       "1264        0.1100      8        -1  \n",
       "1426        0.5580      9        -1  \n",
       "1429        0.0040      3        -1  \n",
       "1755        0.4350      7        -1  \n",
       "2051        0.1335      8        -1  \n",
       "2115        0.0090      3        -1  \n",
       "2123        0.0350      6        -1  \n",
       "2127        0.0850      7        -1  \n",
       "2371        0.0100      3        -1  \n",
       "2619        0.4325      8        -1  \n",
       "2627        0.0315      5        -1  \n",
       "2641        0.1230      7        -1  \n",
       "2711        0.0105      3        -1  \n",
       "2728        0.0995      8        -1  \n",
       "2790        0.3240     10        -1  \n",
       "2811        0.5200      9        -1  \n",
       "2975        0.0885      6        -1  \n",
       "3086        0.0595      7        -1  \n",
       "3472        0.0140      3        -1  \n",
       "3521        0.0125      3        -1  \n",
       "3716        0.0465      5        -1  \n",
       "3718        0.1280      7        -1  \n",
       "3801        0.0140      3        -1  \n",
       "3814        0.2100      6        -1  \n",
       "3996        0.3505      6        -1  "
      ]
     },
     "execution_count": 10,
     "metadata": {},
     "output_type": "execute_result"
    }
   ],
   "source": [
    "abalone_data[abalone_data['outliers'] == -1]"
   ]
  },
  {
   "cell_type": "code",
   "execution_count": 11,
   "metadata": {},
   "outputs": [],
   "source": [
    "outliers_lof = abalone_data[abalone_data['outliers'] == -1]"
   ]
  },
  {
   "cell_type": "code",
   "execution_count": 12,
   "metadata": {},
   "outputs": [],
   "source": [
    "outliers_lof.to_csv('outliers_lof.csv')"
   ]
  },
  {
   "cell_type": "code",
   "execution_count": 13,
   "metadata": {},
   "outputs": [
    {
     "data": {
      "image/png": "[encoded data removed]",
      "text/plain": [
       "<matplotlib.figure.Figure at 0x2e1ad7ec4e0>"
      ]
     },
     "metadata": {},
     "output_type": "display_data"
    }
   ],
   "source": [
    "y_outliers = X[y_pred==-1]\n",
    "a = plt.scatter(X[:, 1], X[:, 2], c='white', edgecolor='k', s=20)\n",
    "b = plt.scatter(y_outliers[:,1], y_outliers[:, 2], c='red', edgecolor='k', s=20)\n",
    "plt.show()"
   ]
  },
  {
   "cell_type": "code",
   "execution_count": 14,
   "metadata": {},
   "outputs": [
    {
     "data": {
      "image/png": "[encoded data removed]",
      "text/plain": [
       "<matplotlib.figure.Figure at 0x2e1ad7ec3c8>"
      ]
     },
     "metadata": {},
     "output_type": "display_data"
    }
   ],
   "source": [
    "a = plt.scatter(X[:, 2], X[:, 3], c='white', edgecolor='k', s=20)\n",
    "b = plt.scatter(y_outliers[:, 2], y_outliers[:, 3], c='red', edgecolor='k', s=20)\n",
    "plt.show()"
   ]
  },
  {
   "cell_type": "code",
   "execution_count": 15,
   "metadata": {},
   "outputs": [
    {
     "data": {
      "image/png": "[encoded data removed]",
      "text/plain": [
       "<matplotlib.figure.Figure at 0x2e1af9c67b8>"
      ]
     },
     "metadata": {},
     "output_type": "display_data"
    }
   ],
   "source": [
    "a = plt.scatter(X[:, 3], X[:, 4], c='white', edgecolor='k', s=20)\n",
    "b = plt.scatter(y_outliers[:, 3], y_outliers[:, 4], c='red', edgecolor='k', s=20)\n",
    "plt.show()"
   ]
  },
  {
   "cell_type": "code",
   "execution_count": 16,
   "metadata": {},
   "outputs": [
    {
     "data": {
      "image/png": "[encoded data removed]",
      "text/plain": [
       "<matplotlib.figure.Figure at 0x2e1afa34240>"
      ]
     },
     "metadata": {},
     "output_type": "display_data"
    }
   ],
   "source": [
    "a = plt.scatter(X[:, 1], X[:, 3], c='white', edgecolor='k', s=20)\n",
    "b = plt.scatter(y_outliers[:, 1], y_outliers[:, 3], c='red', edgecolor='k', s=20)\n",
    "plt.show()"
   ]
  },
  {
   "cell_type": "code",
   "execution_count": 17,
   "metadata": {},
   "outputs": [
    {
     "data": {
      "image/png": "[encoded data removed]",
      "text/plain": [
       "<matplotlib.figure.Figure at 0x2e1af874470>"
      ]
     },
     "metadata": {},
     "output_type": "display_data"
    }
   ],
   "source": [
    "a = plt.scatter(X[:, 1], X[:, 4], c='white', edgecolor='k', s=20)\n",
    "b = plt.scatter(y_outliers[:, 1], y_outliers[:, 4], c='red', edgecolor='k', s=20)\n",
    "plt.show()"
   ]
  },
  {
   "cell_type": "code",
   "execution_count": 18,
   "metadata": {},
   "outputs": [
    {
     "data": {
      "image/png": "[encoded data removed]",
      "text/plain": [
       "<matplotlib.figure.Figure at 0x2e1af991be0>"
      ]
     },
     "metadata": {},
     "output_type": "display_data"
    }
   ],
   "source": [
    "a = plt.scatter(X[:, 0], X[:, 1], c='white', edgecolor='k', s=20)\n",
    "b = plt.scatter(y_outliers[:, 0], y_outliers[:, 1], c='red', edgecolor='k', s=20)\n",
    "plt.show()"
   ]
  },
  {
   "cell_type": "code",
   "execution_count": 19,
   "metadata": {},
   "outputs": [
    {
     "data": {
      "text/plain": [
       "42"
      ]
     },
     "execution_count": 19,
     "metadata": {},
     "output_type": "execute_result"
    }
   ],
   "source": [
    "len(y_outliers)"
   ]
  },
  {
   "cell_type": "code",
   "execution_count": 20,
   "metadata": {},
   "outputs": [
    {
     "data": {
      "text/plain": [
       "array([[7.5000e-02, 5.5000e-02, 1.0000e-02, 2.0000e-03, 1.0000e-03,\n",
       "        5.0000e-04, 1.5000e-03, 1.0000e+00],\n",
       "       [1.3000e-01, 1.0000e-01, 3.0000e-02, 1.3000e-02, 4.5000e-03,\n",
       "        3.0000e-03, 4.0000e-03, 3.0000e+00],\n",
       "       [1.1000e-01, 9.0000e-02, 3.0000e-02, 8.0000e-03, 2.5000e-03,\n",
       "        2.0000e-03, 3.0000e-03, 3.0000e+00],\n",
       "       [1.6500e-01, 1.2000e-01, 3.0000e-02, 2.1500e-02, 7.0000e-03,\n",
       "        5.0000e-03, 5.0000e-03, 3.0000e+00],\n",
       "       [7.0000e-01, 5.8500e-01, 1.8500e-01, 1.8075e+00, 7.0550e-01,\n",
       "        3.2150e-01, 4.7500e-01, 2.9000e+01],\n",
       "       [2.1000e-01, 1.5000e-01, 5.0000e-02, 3.8500e-02, 1.5500e-02,\n",
       "        8.5000e-03, 1.0000e-02, 3.0000e+00],\n",
       "       [1.5500e-01, 1.1000e-01, 4.0000e-02, 1.5500e-02, 6.5000e-03,\n",
       "        3.0000e-03, 5.0000e-03, 3.0000e+00],\n",
       "       [1.5000e-01, 1.0000e-01, 2.5000e-02, 1.5000e-02, 4.5000e-03,\n",
       "        4.0000e-03, 5.0000e-03, 2.0000e+00],\n",
       "       [1.6000e-01, 1.1000e-01, 2.5000e-02, 1.8000e-02, 6.5000e-03,\n",
       "        5.5000e-03, 5.0000e-03, 3.0000e+00],\n",
       "       [5.9500e-01, 4.7500e-01, 1.6000e-01, 1.1405e+00, 5.4700e-01,\n",
       "        2.3100e-01, 2.7100e-01, 6.0000e+00],\n",
       "       [2.4000e-01, 1.7500e-01, 6.5000e-02, 6.6500e-02, 3.1000e-02,\n",
       "        1.3500e-02, 1.7000e-02, 3.0000e+00],\n",
       "       [6.6000e-01, 4.7500e-01, 1.8000e-01, 1.3695e+00, 6.4100e-01,\n",
       "        2.9400e-01, 3.3500e-01, 6.0000e+00],\n",
       "       [6.9000e-01, 5.2500e-01, 1.7500e-01, 1.7005e+00, 8.2550e-01,\n",
       "        3.6200e-01, 4.0500e-01, 8.0000e+00],\n",
       "       [1.9500e-01, 1.5000e-01, 4.5000e-02, 3.7500e-02, 1.8000e-02,\n",
       "        6.0000e-03, 1.1000e-02, 3.0000e+00],\n",
       "       [1.8500e-01, 3.7500e-01, 1.2000e-01, 4.6450e-01, 1.9600e-01,\n",
       "        1.0450e-01, 1.5000e-01, 6.0000e+00],\n",
       "       [3.1000e-01, 2.2500e-01, 7.0000e-02, 1.0550e-01, 4.3500e-01,\n",
       "        1.5000e-02, 4.0000e-02, 5.0000e+00],\n",
       "       [3.6000e-01, 2.7000e-01, 8.5000e-02, 1.9600e-01, 8.7500e-02,\n",
       "        3.5000e-02, 6.4000e-02, 4.0000e+00],\n",
       "       [4.5500e-01, 3.3000e-01, 1.0000e-01, 3.7200e-01, 3.5800e-01,\n",
       "        7.7500e-02, 1.1000e-01, 8.0000e+00],\n",
       "       [7.4500e-01, 5.7000e-01, 2.1500e-01, 2.2500e+00, 1.1565e+00,\n",
       "        4.4600e-01, 5.5800e-01, 9.0000e+00],\n",
       "       [1.4000e-01, 1.0500e-01, 3.5000e-02, 1.4000e-02, 5.5000e-03,\n",
       "        2.5000e-03, 4.0000e-03, 3.0000e+00],\n",
       "       [7.2000e-01, 5.2500e-01, 1.8000e-01, 1.4450e+00, 6.3100e-01,\n",
       "        3.2150e-01, 4.3500e-01, 7.0000e+00],\n",
       "       [4.5500e-01, 3.5500e-01, 1.1300e+00, 5.9400e-01, 3.3200e-01,\n",
       "        1.1600e-01, 1.3350e-01, 8.0000e+00],\n",
       "       [1.8000e-01, 1.3000e-01, 4.5000e-02, 2.7500e-02, 1.2500e-02,\n",
       "        1.0000e-02, 9.0000e-03, 3.0000e+00],\n",
       "       [2.9000e-01, 2.1000e-01, 7.5000e-02, 2.7500e-01, 1.1300e-01,\n",
       "        6.7500e-02, 3.5000e-02, 6.0000e+00],\n",
       "       [4.0000e-01, 3.1000e-01, 1.0000e-01, 1.2700e-01, 1.0600e-01,\n",
       "        7.1000e-02, 8.5000e-02, 7.0000e+00],\n",
       "       [1.8000e-01, 1.2500e-01, 5.0000e-02, 2.3000e-02, 8.5000e-03,\n",
       "        5.5000e-03, 1.0000e-02, 3.0000e+00],\n",
       "       [6.9000e-01, 5.4000e-01, 1.8500e-01, 1.7100e+00, 7.7250e-01,\n",
       "        3.8550e-01, 4.3250e-01, 8.0000e+00],\n",
       "       [2.7500e-01, 2.0500e-01, 7.0000e-02, 1.0550e-01, 4.9500e-01,\n",
       "        1.9000e-02, 3.1500e-02, 5.0000e+00],\n",
       "       [4.7500e-01, 3.6500e-01, 1.0000e-01, 1.3150e-01, 2.0250e-01,\n",
       "        8.7500e-02, 1.2300e-01, 7.0000e+00],\n",
       "       [1.9000e-01, 1.4000e-01, 3.0000e-02, 3.1500e-02, 1.2500e-02,\n",
       "        5.0000e-03, 1.0500e-02, 3.0000e+00],\n",
       "       [4.0500e-01, 3.1000e-01, 1.1000e-01, 9.1000e-01, 4.1600e-01,\n",
       "        2.0750e-01, 9.9500e-02, 8.0000e+00],\n",
       "       [6.2000e-01, 4.8000e-01, 1.6500e-01, 1.0125e+00, 5.3250e-01,\n",
       "        4.3650e-01, 3.2400e-01, 1.0000e+01],\n",
       "       [7.2500e-01, 5.7000e-01, 1.9000e-01, 2.3305e+00, 1.2530e+00,\n",
       "        5.4100e-01, 5.2000e-01, 9.0000e+00],\n",
       "       [3.2000e-01, 2.1500e-01, 9.5000e-02, 3.0500e-01, 1.4000e-01,\n",
       "        6.7000e-02, 8.8500e-02, 6.0000e+00],\n",
       "       [3.5500e-01, 2.7000e-01, 7.5000e-02, 2.0400e-01, 3.0450e-01,\n",
       "        4.6000e-02, 5.9500e-02, 7.0000e+00],\n",
       "       [1.6500e-01, 1.2000e-01, 5.0000e-02, 2.1000e-02, 7.5000e-03,\n",
       "        4.5000e-03, 1.4000e-02, 3.0000e+00],\n",
       "       [2.1500e-01, 1.5000e-01, 5.5000e-02, 4.1000e-02, 1.5000e-02,\n",
       "        9.0000e-03, 1.2500e-02, 3.0000e+00],\n",
       "       [2.3500e-01, 1.3000e-01, 7.5000e-02, 1.5850e-01, 6.8500e-02,\n",
       "        3.7000e-02, 4.6500e-02, 5.0000e+00],\n",
       "       [3.6000e-01, 2.5000e-01, 1.1500e-01, 4.6500e-01, 2.1000e-01,\n",
       "        1.0550e-01, 1.2800e-01, 7.0000e+00],\n",
       "       [2.0500e-01, 1.5500e-01, 4.5000e-02, 4.9500e-02, 2.3500e-02,\n",
       "        1.1000e-02, 1.4000e-02, 3.0000e+00],\n",
       "       [3.8000e-01, 2.7500e-01, 9.5000e-02, 2.4250e-01, 1.0600e-01,\n",
       "        4.8500e-02, 2.1000e-01, 6.0000e+00],\n",
       "       [3.1500e-01, 2.3000e-01, 0.0000e+00, 1.3400e-01, 5.7500e-02,\n",
       "        2.8500e-02, 3.5050e-01, 6.0000e+00]])"
      ]
     },
     "execution_count": 20,
     "metadata": {},
     "output_type": "execute_result"
    }
   ],
   "source": [
    "y_outliers"
   ]
  },
  {
   "cell_type": "code",
   "execution_count": 21,
   "metadata": {},
   "outputs": [
    {
     "data": {
      "image/png": "[encoded data removed]",
      "text/plain": [
       "<matplotlib.figure.Figure at 0x2e1afab88d0>"
      ]
     },
     "metadata": {},
     "output_type": "display_data"
    }
   ],
   "source": [
    "plt.scatter(X[:, 0], X[:, 1], s=80, c=clf.negative_outlier_factor_, cmap='RdYlGn')\n",
    "plt.colorbar()\n",
    "plt.show()"
   ]
  },
  {
   "cell_type": "markdown",
   "metadata": {},
   "source": [
    "## Angle based"
   ]
  },
  {
   "cell_type": "code",
   "execution_count": 47,
   "metadata": {},
   "outputs": [
    {
     "name": "stdout",
     "output_type": "stream",
     "text": [
      "Populating the interactive namespace from numpy and matplotlib\n"
     ]
    },
    {
     "name": "stderr",
     "output_type": "stream",
     "text": [
      "C:\\Users\\feder\\Anaconda3\\lib\\site-packages\\IPython\\core\\magics\\pylab.py:160: UserWarning: pylab import has clobbered these variables: ['hist']\n",
      "`%matplotlib` prevents importing * from pylab and numpy\n",
      "  \"\\n`%matplotlib` prevents importing * from pylab and numpy\"\n"
     ]
    },
    {
     "data": {
      "text/plain": [
       "sex                object\n",
       "length            float64\n",
       "diameter          float64\n",
       "height            float64\n",
       "weight_whole      float64\n",
       "weight_shucked    float64\n",
       "weight_viscera    float64\n",
       "weight_shell      float64\n",
       "rings               int64\n",
       "dtype: object"
      ]
     },
     "execution_count": 47,
     "metadata": {},
     "output_type": "execute_result"
    }
   ],
   "source": [
    "import numpy as np\n",
    "%pylab inline\n",
    "#%matplotlib inline\n",
    "import pandas as pd\n",
    "import matplotlib\n",
    "import matplotlib.pyplot as plt\n",
    "\n",
    "\n",
    "ab_data = pd.read_csv(\"abalone_dataset.csv\")\n",
    "ab_data.dtypes"
   ]
  },
  {
   "cell_type": "code",
   "execution_count": 48,
   "metadata": {},
   "outputs": [],
   "source": [
    "# Generate random dataset\n",
    "#npts = 100\n",
    "dataset = abalone_data[[\"height\", \"diameter\"]].as_matrix()\n"
   ]
  },
  {
   "cell_type": "code",
   "execution_count": 49,
   "metadata": {},
   "outputs": [],
   "source": [
    "import time"
   ]
  },
  {
   "cell_type": "code",
   "execution_count": null,
   "metadata": {},
   "outputs": [
    {
     "name": "stdout",
     "output_type": "stream",
     "text": [
      "Wall time: 0 ns\n"
     ]
    }
   ],
   "source": [
    "%time\n",
    "# compute ABOD score for each point\n",
    "# -- O(n^3) ==> very slow!\n",
    "abod = list()\n",
    "for p in dataset:\n",
    "    angle_list = list()\n",
    "    for a in dataset:\n",
    "        for b in dataset:\n",
    "            pa = a - p\n",
    "            pb = b - p\n",
    "            norm_pa = np.linalg.norm(pa)\n",
    "            norm_pb = np.linalg.norm(pb)\n",
    "            if norm_pa*norm_pb > 0:\n",
    "                c_ang = np.dot(pa, pb) / (norm_pa**2 * norm_pb**2)\n",
    "                angle_list.append(c_ang)\n",
    "    abod.append( np.var(angle_list) )"
   ]
  },
  {
   "cell_type": "code",
   "execution_count": null,
   "metadata": {},
   "outputs": [],
   "source": [
    "# Plot ABOD scores\n",
    "plot(sorted(abod))\n",
    "show()\n",
    "# Plot ABOD log scores\n",
    "plot(log(sorted(abod)))\n",
    "show()"
   ]
  },
  {
   "cell_type": "code",
   "execution_count": null,
   "metadata": {},
   "outputs": [],
   "source": [
    "# Select top N smaller scores as outliers\n",
    "take_top_n = 10\n",
    "abod_threshold = sorted(abod)[take_top_n]\n",
    "outliers = array([ dataset[i] for i in range(len(dataset)) \n",
    "                  if abod[i]<abod_threshold])9"
   ]
  },
  {
   "cell_type": "code",
   "execution_count": null,
   "metadata": {},
   "outputs": [],
   "source": [
    "# Plot outliers vs. dataset\n",
    "xlim(min(dataset[:,0]-0.1), max(dataset[:,0])+0.1)\n",
    "ylim(min(dataset[:,1]-0.1), max(dataset[:,1])+0.1)\n",
    "\n",
    "plot(dataset[:,0], dataset[:,1], 'bo')\n",
    "plot(outliers[:,0], outliers[:,1], 'ro')"
   ]
  },
  {
   "cell_type": "code",
   "execution_count": null,
   "metadata": {},
   "outputs": [],
   "source": [
    "plt.scatter(dataset[:,0], dataset[:,1], s=80, c=log(abod), cmap='RdYlGn')\n",
    "plt.colorbar()\n",
    "plt.show()"
   ]
  }
 ],
 "metadata": {
  "kernelspec": {
   "display_name": "Python 2",
   "language": "python",
   "name": "python2"
  },
  "language_info": {
   "codemirror_mode": {
    "name": "ipython",
    "version": 2
   },
   "file_extension": ".py",
   "mimetype": "text/x-python",
   "name": "python",
   "nbconvert_exporter": "python",
   "pygments_lexer": "ipython2",
   "version": "2.7.14"
  }
 },
 "nbformat": 4,
 "nbformat_minor": 2
}
