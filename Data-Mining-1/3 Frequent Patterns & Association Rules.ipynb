{
 "cells": [
  {
   "cell_type": "markdown",
   "metadata": {},
   "source": [
    "# Frequent Patterns & Association Rules"
   ]
  },
  {
   "cell_type": "code",
   "execution_count": 1,
   "metadata": {
    "collapsed": true
   },
   "outputs": [],
   "source": [
    "%matplotlib inline\n",
    "\n",
    "import math\n",
    "import numpy as np\n",
    "import pandas as pd\n",
    "import scipy.stats as stats\n",
    "import matplotlib.pyplot as plt\n",
    "\n",
    "from collections import defaultdict\n",
    "from scipy.stats.stats import pearsonr"
   ]
  },
  {
   "cell_type": "code",
   "execution_count": 2,
   "metadata": {
    "collapsed": true
   },
   "outputs": [],
   "source": [
    "import fim\n",
    "from fim import apriori"
   ]
  },
  {
   "cell_type": "code",
   "execution_count": 3,
   "metadata": {},
   "outputs": [
    {
     "data": {
      "text/html": [
       "<div>\n",
       "<style>\n",
       "    .dataframe thead tr:only-child th {\n",
       "        text-align: right;\n",
       "    }\n",
       "\n",
       "    .dataframe thead th {\n",
       "        text-align: left;\n",
       "    }\n",
       "\n",
       "    .dataframe tbody tr th {\n",
       "        vertical-align: top;\n",
       "    }\n",
       "</style>\n",
       "<table border=\"1\" class=\"dataframe\">\n",
       "  <thead>\n",
       "    <tr style=\"text-align: right;\">\n",
       "      <th></th>\n",
       "      <th>satisfaction_level</th>\n",
       "      <th>last_evaluation</th>\n",
       "      <th>number_project</th>\n",
       "      <th>average_montly_hours</th>\n",
       "      <th>time_spend_company</th>\n",
       "      <th>Work_accident</th>\n",
       "      <th>left</th>\n",
       "      <th>promotion_last_5years</th>\n",
       "      <th>sales</th>\n",
       "      <th>salary</th>\n",
       "    </tr>\n",
       "  </thead>\n",
       "  <tbody>\n",
       "    <tr>\n",
       "      <th>0</th>\n",
       "      <td>0.38</td>\n",
       "      <td>0.53</td>\n",
       "      <td>2</td>\n",
       "      <td>157</td>\n",
       "      <td>3</td>\n",
       "      <td>0</td>\n",
       "      <td>1</td>\n",
       "      <td>0</td>\n",
       "      <td>sales</td>\n",
       "      <td>low</td>\n",
       "    </tr>\n",
       "    <tr>\n",
       "      <th>1</th>\n",
       "      <td>0.80</td>\n",
       "      <td>0.86</td>\n",
       "      <td>5</td>\n",
       "      <td>262</td>\n",
       "      <td>6</td>\n",
       "      <td>0</td>\n",
       "      <td>1</td>\n",
       "      <td>0</td>\n",
       "      <td>sales</td>\n",
       "      <td>medium</td>\n",
       "    </tr>\n",
       "    <tr>\n",
       "      <th>2</th>\n",
       "      <td>0.11</td>\n",
       "      <td>0.88</td>\n",
       "      <td>7</td>\n",
       "      <td>272</td>\n",
       "      <td>4</td>\n",
       "      <td>0</td>\n",
       "      <td>1</td>\n",
       "      <td>0</td>\n",
       "      <td>sales</td>\n",
       "      <td>medium</td>\n",
       "    </tr>\n",
       "    <tr>\n",
       "      <th>3</th>\n",
       "      <td>0.72</td>\n",
       "      <td>0.87</td>\n",
       "      <td>5</td>\n",
       "      <td>223</td>\n",
       "      <td>5</td>\n",
       "      <td>0</td>\n",
       "      <td>1</td>\n",
       "      <td>0</td>\n",
       "      <td>sales</td>\n",
       "      <td>low</td>\n",
       "    </tr>\n",
       "    <tr>\n",
       "      <th>4</th>\n",
       "      <td>0.37</td>\n",
       "      <td>0.52</td>\n",
       "      <td>2</td>\n",
       "      <td>159</td>\n",
       "      <td>3</td>\n",
       "      <td>0</td>\n",
       "      <td>1</td>\n",
       "      <td>0</td>\n",
       "      <td>sales</td>\n",
       "      <td>low</td>\n",
       "    </tr>\n",
       "  </tbody>\n",
       "</table>\n",
       "</div>"
      ],
      "text/plain": [
       "   satisfaction_level  last_evaluation  number_project  average_montly_hours  \\\n",
       "0                0.38             0.53               2                   157   \n",
       "1                0.80             0.86               5                   262   \n",
       "2                0.11             0.88               7                   272   \n",
       "3                0.72             0.87               5                   223   \n",
       "4                0.37             0.52               2                   159   \n",
       "\n",
       "   time_spend_company  Work_accident  left  promotion_last_5years  sales  \\\n",
       "0                   3              0     1                      0  sales   \n",
       "1                   6              0     1                      0  sales   \n",
       "2                   4              0     1                      0  sales   \n",
       "3                   5              0     1                      0  sales   \n",
       "4                   3              0     1                      0  sales   \n",
       "\n",
       "   salary  \n",
       "0     low  \n",
       "1  medium  \n",
       "2  medium  \n",
       "3     low  \n",
       "4     low  "
      ]
     },
     "execution_count": 3,
     "metadata": {},
     "output_type": "execute_result"
    }
   ],
   "source": [
    "df = pd.read_csv(\"hr_COMMA_SEP.csv\")\n",
    "df.head()"
   ]
  },
  {
   "cell_type": "code",
   "execution_count": 4,
   "metadata": {},
   "outputs": [
    {
     "data": {
      "text/html": [
       "<div>\n",
       "<style>\n",
       "    .dataframe thead tr:only-child th {\n",
       "        text-align: right;\n",
       "    }\n",
       "\n",
       "    .dataframe thead th {\n",
       "        text-align: left;\n",
       "    }\n",
       "\n",
       "    .dataframe tbody tr th {\n",
       "        vertical-align: top;\n",
       "    }\n",
       "</style>\n",
       "<table border=\"1\" class=\"dataframe\">\n",
       "  <thead>\n",
       "    <tr style=\"text-align: right;\">\n",
       "      <th></th>\n",
       "      <th>satisfaction_level</th>\n",
       "      <th>last_evaluation</th>\n",
       "      <th>number_project</th>\n",
       "      <th>average_montly_hours</th>\n",
       "      <th>time_spend_company</th>\n",
       "      <th>Work_accident</th>\n",
       "      <th>left</th>\n",
       "      <th>promotion_last_5years</th>\n",
       "    </tr>\n",
       "  </thead>\n",
       "  <tbody>\n",
       "    <tr>\n",
       "      <th>count</th>\n",
       "      <td>14999.000000</td>\n",
       "      <td>14999.000000</td>\n",
       "      <td>14999.000000</td>\n",
       "      <td>14999.000000</td>\n",
       "      <td>14999.000000</td>\n",
       "      <td>14999.000000</td>\n",
       "      <td>14999.000000</td>\n",
       "      <td>14999.000000</td>\n",
       "    </tr>\n",
       "    <tr>\n",
       "      <th>mean</th>\n",
       "      <td>0.612834</td>\n",
       "      <td>0.716102</td>\n",
       "      <td>3.803054</td>\n",
       "      <td>201.050337</td>\n",
       "      <td>3.498233</td>\n",
       "      <td>0.144610</td>\n",
       "      <td>0.238083</td>\n",
       "      <td>0.021268</td>\n",
       "    </tr>\n",
       "    <tr>\n",
       "      <th>std</th>\n",
       "      <td>0.248631</td>\n",
       "      <td>0.171169</td>\n",
       "      <td>1.232592</td>\n",
       "      <td>49.943099</td>\n",
       "      <td>1.460136</td>\n",
       "      <td>0.351719</td>\n",
       "      <td>0.425924</td>\n",
       "      <td>0.144281</td>\n",
       "    </tr>\n",
       "    <tr>\n",
       "      <th>min</th>\n",
       "      <td>0.090000</td>\n",
       "      <td>0.360000</td>\n",
       "      <td>2.000000</td>\n",
       "      <td>96.000000</td>\n",
       "      <td>2.000000</td>\n",
       "      <td>0.000000</td>\n",
       "      <td>0.000000</td>\n",
       "      <td>0.000000</td>\n",
       "    </tr>\n",
       "    <tr>\n",
       "      <th>25%</th>\n",
       "      <td>0.440000</td>\n",
       "      <td>0.560000</td>\n",
       "      <td>3.000000</td>\n",
       "      <td>156.000000</td>\n",
       "      <td>3.000000</td>\n",
       "      <td>0.000000</td>\n",
       "      <td>0.000000</td>\n",
       "      <td>0.000000</td>\n",
       "    </tr>\n",
       "    <tr>\n",
       "      <th>50%</th>\n",
       "      <td>0.640000</td>\n",
       "      <td>0.720000</td>\n",
       "      <td>4.000000</td>\n",
       "      <td>200.000000</td>\n",
       "      <td>3.000000</td>\n",
       "      <td>0.000000</td>\n",
       "      <td>0.000000</td>\n",
       "      <td>0.000000</td>\n",
       "    </tr>\n",
       "    <tr>\n",
       "      <th>75%</th>\n",
       "      <td>0.820000</td>\n",
       "      <td>0.870000</td>\n",
       "      <td>5.000000</td>\n",
       "      <td>245.000000</td>\n",
       "      <td>4.000000</td>\n",
       "      <td>0.000000</td>\n",
       "      <td>0.000000</td>\n",
       "      <td>0.000000</td>\n",
       "    </tr>\n",
       "    <tr>\n",
       "      <th>max</th>\n",
       "      <td>1.000000</td>\n",
       "      <td>1.000000</td>\n",
       "      <td>7.000000</td>\n",
       "      <td>310.000000</td>\n",
       "      <td>10.000000</td>\n",
       "      <td>1.000000</td>\n",
       "      <td>1.000000</td>\n",
       "      <td>1.000000</td>\n",
       "    </tr>\n",
       "  </tbody>\n",
       "</table>\n",
       "</div>"
      ],
      "text/plain": [
       "       satisfaction_level  last_evaluation  number_project  \\\n",
       "count        14999.000000     14999.000000    14999.000000   \n",
       "mean             0.612834         0.716102        3.803054   \n",
       "std              0.248631         0.171169        1.232592   \n",
       "min              0.090000         0.360000        2.000000   \n",
       "25%              0.440000         0.560000        3.000000   \n",
       "50%              0.640000         0.720000        4.000000   \n",
       "75%              0.820000         0.870000        5.000000   \n",
       "max              1.000000         1.000000        7.000000   \n",
       "\n",
       "       average_montly_hours  time_spend_company  Work_accident          left  \\\n",
       "count          14999.000000        14999.000000   14999.000000  14999.000000   \n",
       "mean             201.050337            3.498233       0.144610      0.238083   \n",
       "std               49.943099            1.460136       0.351719      0.425924   \n",
       "min               96.000000            2.000000       0.000000      0.000000   \n",
       "25%              156.000000            3.000000       0.000000      0.000000   \n",
       "50%              200.000000            3.000000       0.000000      0.000000   \n",
       "75%              245.000000            4.000000       0.000000      0.000000   \n",
       "max              310.000000           10.000000       1.000000      1.000000   \n",
       "\n",
       "       promotion_last_5years  \n",
       "count           14999.000000  \n",
       "mean                0.021268  \n",
       "std                 0.144281  \n",
       "min                 0.000000  \n",
       "25%                 0.000000  \n",
       "50%                 0.000000  \n",
       "75%                 0.000000  \n",
       "max                 1.000000  "
      ]
     },
     "execution_count": 4,
     "metadata": {},
     "output_type": "execute_result"
    }
   ],
   "source": [
    "df.describe()"
   ]
  },
  {
   "cell_type": "code",
   "execution_count": 5,
   "metadata": {
    "collapsed": true
   },
   "outputs": [],
   "source": [
    "df2 = df.copy()"
   ]
  },
  {
   "cell_type": "code",
   "execution_count": 6,
   "metadata": {
    "collapsed": true
   },
   "outputs": [],
   "source": [
    "satisfaction_levels = ['Molto insoddisfatto', 'Insoddisfatto', 'Neutrale', 'Soddisfatto', 'Molto soddisfatto'] #5 bins\n",
    "bins_sl = [0, 0.2, 0.4, 0.6, 0.8, 1.01]\n",
    "df2['satisfaction_level_cat'] = pd.cut(df2['satisfaction_level'], bins=bins_sl, \n",
    "                         right=False, labels=satisfaction_levels)"
   ]
  },
  {
   "cell_type": "code",
   "execution_count": 7,
   "metadata": {
    "collapsed": true
   },
   "outputs": [],
   "source": [
    "#last_evaluation_levels = ['Molto negativa', 'Negativa', 'Neutrale', 'Positiva', 'Molto positiva'] #5 bins\n",
    "#bins_le = [0, 0.2, 0.4, 0.6, 0.8, 1.01]\n",
    "#df2['last_evaluation_cat'] = pd.cut(df2['last_evaluation'], bins=bins_le, \n",
    "#                        right=False, labels=last_evaluation_levels)"
   ]
  },
  {
   "cell_type": "code",
   "execution_count": 8,
   "metadata": {
    "collapsed": true
   },
   "outputs": [],
   "source": [
    "last_evaluation_levels = ['Insufficiente', 'Sufficiente', 'Discreto', 'Buono', 'Ottimo'] #5 bins\n",
    "bins_le = [0.36, 0.56, 0.66, 0.76, 0.91, 1.01]\n",
    "df2['last_evaluation_cat'] = pd.cut(df2['last_evaluation'], bins=bins_le, \n",
    "                         right=False, labels=last_evaluation_levels)"
   ]
  },
  {
   "cell_type": "code",
   "execution_count": 9,
   "metadata": {
    "collapsed": true
   },
   "outputs": [],
   "source": [
    "#number_project_labels = ['2/3', '4/5', '6/7'] #3 bins\n",
    "#bins_np = [2, 4, 6, 8]\n",
    "#df2['number_project_cat'] = pd.cut(df2['number_project'], bins=bins_np,\n",
    "#                        right=False, labels=number_project_labels)"
   ]
  },
  {
   "cell_type": "code",
   "execution_count": 10,
   "metadata": {
    "collapsed": true
   },
   "outputs": [],
   "source": [
    "#average_monthly_hours_groups = ['96-138', '139-182', '183-225', '226-269', '270-310'] #5 bins\n",
    "#bins_amh = [96, 139, 183, 226, 270, 311]\n",
    "#df2['avg_monthly_hours_cat'] = pd.cut(df2['average_montly_hours'], bins=bins_amh,\n",
    "#                         right=False, labels=average_monthly_hours_groups)"
   ]
  },
  {
   "cell_type": "code",
   "execution_count": 11,
   "metadata": {
    "collapsed": true
   },
   "outputs": [],
   "source": [
    "average_monthly_hours_groups = ['96-118', '119-140', '141-162', '163-184', '185-206',\n",
    "                                '207-228', '229-250', '251-272', '273-294', '295-310'] #10 bins\n",
    "\n",
    "bins_amh = [96, 119, 141, 163, 185, 207, 229, 251, 273, 295, 311]\n",
    "\n",
    "df2['avg_monthly_hours_cat'] = pd.cut(df2['average_montly_hours'], bins=bins_amh,\n",
    "                         right=False, labels=average_monthly_hours_groups)"
   ]
  },
  {
   "cell_type": "code",
   "execution_count": 12,
   "metadata": {
    "collapsed": true
   },
   "outputs": [],
   "source": [
    "#time_spend_company_labels = ['2/3/4', '5/6/7', '8/9/10'] #3 bins\n",
    "#bins_tsc = [2, 5, 8, 11]\n",
    "#df2['time_spend_company_cat'] = pd.cut(df2['time_spend_company'], bins = bins_tsc,\n",
    "#                       right=False, labels=time_spend_company_labels) "
   ]
  },
  {
   "cell_type": "code",
   "execution_count": 13,
   "metadata": {},
   "outputs": [
    {
     "data": {
      "text/html": [
       "<div>\n",
       "<style>\n",
       "    .dataframe thead tr:only-child th {\n",
       "        text-align: right;\n",
       "    }\n",
       "\n",
       "    .dataframe thead th {\n",
       "        text-align: left;\n",
       "    }\n",
       "\n",
       "    .dataframe tbody tr th {\n",
       "        vertical-align: top;\n",
       "    }\n",
       "</style>\n",
       "<table border=\"1\" class=\"dataframe\">\n",
       "  <thead>\n",
       "    <tr style=\"text-align: right;\">\n",
       "      <th></th>\n",
       "      <th>satisfaction_level</th>\n",
       "      <th>last_evaluation</th>\n",
       "      <th>number_project</th>\n",
       "      <th>average_montly_hours</th>\n",
       "      <th>time_spend_company</th>\n",
       "      <th>Work_accident</th>\n",
       "      <th>left</th>\n",
       "      <th>promotion_last_5years</th>\n",
       "      <th>sales</th>\n",
       "      <th>salary</th>\n",
       "      <th>satisfaction_level_cat</th>\n",
       "      <th>last_evaluation_cat</th>\n",
       "      <th>avg_monthly_hours_cat</th>\n",
       "    </tr>\n",
       "  </thead>\n",
       "  <tbody>\n",
       "    <tr>\n",
       "      <th>0</th>\n",
       "      <td>0.38</td>\n",
       "      <td>0.53</td>\n",
       "      <td>2</td>\n",
       "      <td>157</td>\n",
       "      <td>3</td>\n",
       "      <td>0</td>\n",
       "      <td>1</td>\n",
       "      <td>0</td>\n",
       "      <td>sales</td>\n",
       "      <td>low</td>\n",
       "      <td>Insoddisfatto</td>\n",
       "      <td>Insufficiente</td>\n",
       "      <td>141-162</td>\n",
       "    </tr>\n",
       "    <tr>\n",
       "      <th>1</th>\n",
       "      <td>0.80</td>\n",
       "      <td>0.86</td>\n",
       "      <td>5</td>\n",
       "      <td>262</td>\n",
       "      <td>6</td>\n",
       "      <td>0</td>\n",
       "      <td>1</td>\n",
       "      <td>0</td>\n",
       "      <td>sales</td>\n",
       "      <td>medium</td>\n",
       "      <td>Molto soddisfatto</td>\n",
       "      <td>Buono</td>\n",
       "      <td>251-272</td>\n",
       "    </tr>\n",
       "    <tr>\n",
       "      <th>2</th>\n",
       "      <td>0.11</td>\n",
       "      <td>0.88</td>\n",
       "      <td>7</td>\n",
       "      <td>272</td>\n",
       "      <td>4</td>\n",
       "      <td>0</td>\n",
       "      <td>1</td>\n",
       "      <td>0</td>\n",
       "      <td>sales</td>\n",
       "      <td>medium</td>\n",
       "      <td>Molto insoddisfatto</td>\n",
       "      <td>Buono</td>\n",
       "      <td>251-272</td>\n",
       "    </tr>\n",
       "    <tr>\n",
       "      <th>3</th>\n",
       "      <td>0.72</td>\n",
       "      <td>0.87</td>\n",
       "      <td>5</td>\n",
       "      <td>223</td>\n",
       "      <td>5</td>\n",
       "      <td>0</td>\n",
       "      <td>1</td>\n",
       "      <td>0</td>\n",
       "      <td>sales</td>\n",
       "      <td>low</td>\n",
       "      <td>Soddisfatto</td>\n",
       "      <td>Buono</td>\n",
       "      <td>207-228</td>\n",
       "    </tr>\n",
       "    <tr>\n",
       "      <th>4</th>\n",
       "      <td>0.37</td>\n",
       "      <td>0.52</td>\n",
       "      <td>2</td>\n",
       "      <td>159</td>\n",
       "      <td>3</td>\n",
       "      <td>0</td>\n",
       "      <td>1</td>\n",
       "      <td>0</td>\n",
       "      <td>sales</td>\n",
       "      <td>low</td>\n",
       "      <td>Insoddisfatto</td>\n",
       "      <td>Insufficiente</td>\n",
       "      <td>141-162</td>\n",
       "    </tr>\n",
       "  </tbody>\n",
       "</table>\n",
       "</div>"
      ],
      "text/plain": [
       "   satisfaction_level  last_evaluation  number_project  average_montly_hours  \\\n",
       "0                0.38             0.53               2                   157   \n",
       "1                0.80             0.86               5                   262   \n",
       "2                0.11             0.88               7                   272   \n",
       "3                0.72             0.87               5                   223   \n",
       "4                0.37             0.52               2                   159   \n",
       "\n",
       "   time_spend_company  Work_accident  left  promotion_last_5years  sales  \\\n",
       "0                   3              0     1                      0  sales   \n",
       "1                   6              0     1                      0  sales   \n",
       "2                   4              0     1                      0  sales   \n",
       "3                   5              0     1                      0  sales   \n",
       "4                   3              0     1                      0  sales   \n",
       "\n",
       "   salary satisfaction_level_cat last_evaluation_cat avg_monthly_hours_cat  \n",
       "0     low          Insoddisfatto       Insufficiente               141-162  \n",
       "1  medium      Molto soddisfatto               Buono               251-272  \n",
       "2  medium    Molto insoddisfatto               Buono               251-272  \n",
       "3     low            Soddisfatto               Buono               207-228  \n",
       "4     low          Insoddisfatto       Insufficiente               141-162  "
      ]
     },
     "execution_count": 13,
     "metadata": {},
     "output_type": "execute_result"
    }
   ],
   "source": [
    "df2.head()"
   ]
  },
  {
   "cell_type": "code",
   "execution_count": 14,
   "metadata": {},
   "outputs": [
    {
     "data": {
      "text/html": [
       "<div>\n",
       "<style>\n",
       "    .dataframe thead tr:only-child th {\n",
       "        text-align: right;\n",
       "    }\n",
       "\n",
       "    .dataframe thead th {\n",
       "        text-align: left;\n",
       "    }\n",
       "\n",
       "    .dataframe tbody tr th {\n",
       "        vertical-align: top;\n",
       "    }\n",
       "</style>\n",
       "<table border=\"1\" class=\"dataframe\">\n",
       "  <thead>\n",
       "    <tr style=\"text-align: right;\">\n",
       "      <th></th>\n",
       "      <th>satisfaction_level</th>\n",
       "      <th>last_evaluation</th>\n",
       "      <th>number_project</th>\n",
       "      <th>average_montly_hours</th>\n",
       "      <th>time_spend_company</th>\n",
       "      <th>Work_accident</th>\n",
       "      <th>left</th>\n",
       "      <th>promotion_last_5years</th>\n",
       "      <th>sales</th>\n",
       "      <th>salary</th>\n",
       "      <th>satisfaction_level_cat</th>\n",
       "      <th>last_evaluation_cat</th>\n",
       "      <th>avg_monthly_hours_cat</th>\n",
       "    </tr>\n",
       "  </thead>\n",
       "  <tbody>\n",
       "    <tr>\n",
       "      <th>14994</th>\n",
       "      <td>0.40</td>\n",
       "      <td>0.57</td>\n",
       "      <td>2</td>\n",
       "      <td>151</td>\n",
       "      <td>3</td>\n",
       "      <td>0</td>\n",
       "      <td>1</td>\n",
       "      <td>0</td>\n",
       "      <td>support</td>\n",
       "      <td>low</td>\n",
       "      <td>Neutrale</td>\n",
       "      <td>Sufficiente</td>\n",
       "      <td>141-162</td>\n",
       "    </tr>\n",
       "    <tr>\n",
       "      <th>14995</th>\n",
       "      <td>0.37</td>\n",
       "      <td>0.48</td>\n",
       "      <td>2</td>\n",
       "      <td>160</td>\n",
       "      <td>3</td>\n",
       "      <td>0</td>\n",
       "      <td>1</td>\n",
       "      <td>0</td>\n",
       "      <td>support</td>\n",
       "      <td>low</td>\n",
       "      <td>Insoddisfatto</td>\n",
       "      <td>Insufficiente</td>\n",
       "      <td>141-162</td>\n",
       "    </tr>\n",
       "    <tr>\n",
       "      <th>14996</th>\n",
       "      <td>0.37</td>\n",
       "      <td>0.53</td>\n",
       "      <td>2</td>\n",
       "      <td>143</td>\n",
       "      <td>3</td>\n",
       "      <td>0</td>\n",
       "      <td>1</td>\n",
       "      <td>0</td>\n",
       "      <td>support</td>\n",
       "      <td>low</td>\n",
       "      <td>Insoddisfatto</td>\n",
       "      <td>Insufficiente</td>\n",
       "      <td>141-162</td>\n",
       "    </tr>\n",
       "    <tr>\n",
       "      <th>14997</th>\n",
       "      <td>0.11</td>\n",
       "      <td>0.96</td>\n",
       "      <td>6</td>\n",
       "      <td>280</td>\n",
       "      <td>4</td>\n",
       "      <td>0</td>\n",
       "      <td>1</td>\n",
       "      <td>0</td>\n",
       "      <td>support</td>\n",
       "      <td>low</td>\n",
       "      <td>Molto insoddisfatto</td>\n",
       "      <td>Ottimo</td>\n",
       "      <td>273-294</td>\n",
       "    </tr>\n",
       "    <tr>\n",
       "      <th>14998</th>\n",
       "      <td>0.37</td>\n",
       "      <td>0.52</td>\n",
       "      <td>2</td>\n",
       "      <td>158</td>\n",
       "      <td>3</td>\n",
       "      <td>0</td>\n",
       "      <td>1</td>\n",
       "      <td>0</td>\n",
       "      <td>support</td>\n",
       "      <td>low</td>\n",
       "      <td>Insoddisfatto</td>\n",
       "      <td>Insufficiente</td>\n",
       "      <td>141-162</td>\n",
       "    </tr>\n",
       "  </tbody>\n",
       "</table>\n",
       "</div>"
      ],
      "text/plain": [
       "       satisfaction_level  last_evaluation  number_project  \\\n",
       "14994                0.40             0.57               2   \n",
       "14995                0.37             0.48               2   \n",
       "14996                0.37             0.53               2   \n",
       "14997                0.11             0.96               6   \n",
       "14998                0.37             0.52               2   \n",
       "\n",
       "       average_montly_hours  time_spend_company  Work_accident  left  \\\n",
       "14994                   151                   3              0     1   \n",
       "14995                   160                   3              0     1   \n",
       "14996                   143                   3              0     1   \n",
       "14997                   280                   4              0     1   \n",
       "14998                   158                   3              0     1   \n",
       "\n",
       "       promotion_last_5years    sales salary satisfaction_level_cat  \\\n",
       "14994                      0  support    low               Neutrale   \n",
       "14995                      0  support    low          Insoddisfatto   \n",
       "14996                      0  support    low          Insoddisfatto   \n",
       "14997                      0  support    low    Molto insoddisfatto   \n",
       "14998                      0  support    low          Insoddisfatto   \n",
       "\n",
       "      last_evaluation_cat avg_monthly_hours_cat  \n",
       "14994         Sufficiente               141-162  \n",
       "14995       Insufficiente               141-162  \n",
       "14996       Insufficiente               141-162  \n",
       "14997              Ottimo               273-294  \n",
       "14998       Insufficiente               141-162  "
      ]
     },
     "execution_count": 14,
     "metadata": {},
     "output_type": "execute_result"
    }
   ],
   "source": [
    "df2.tail()"
   ]
  },
  {
   "cell_type": "code",
   "execution_count": 15,
   "metadata": {},
   "outputs": [
    {
     "data": {
      "text/html": [
       "<div>\n",
       "<style>\n",
       "    .dataframe thead tr:only-child th {\n",
       "        text-align: right;\n",
       "    }\n",
       "\n",
       "    .dataframe thead th {\n",
       "        text-align: left;\n",
       "    }\n",
       "\n",
       "    .dataframe tbody tr th {\n",
       "        vertical-align: top;\n",
       "    }\n",
       "</style>\n",
       "<table border=\"1\" class=\"dataframe\">\n",
       "  <thead>\n",
       "    <tr style=\"text-align: right;\">\n",
       "      <th></th>\n",
       "      <th>satisfaction_level</th>\n",
       "      <th>last_evaluation</th>\n",
       "      <th>number_project</th>\n",
       "      <th>average_montly_hours</th>\n",
       "      <th>time_spend_company</th>\n",
       "      <th>Work_accident</th>\n",
       "      <th>left</th>\n",
       "      <th>promotion_last_5years</th>\n",
       "    </tr>\n",
       "  </thead>\n",
       "  <tbody>\n",
       "    <tr>\n",
       "      <th>count</th>\n",
       "      <td>14999.000000</td>\n",
       "      <td>14999.000000</td>\n",
       "      <td>14999.000000</td>\n",
       "      <td>14999.000000</td>\n",
       "      <td>14999.000000</td>\n",
       "      <td>14999.000000</td>\n",
       "      <td>14999.000000</td>\n",
       "      <td>14999.000000</td>\n",
       "    </tr>\n",
       "    <tr>\n",
       "      <th>mean</th>\n",
       "      <td>0.612834</td>\n",
       "      <td>0.716102</td>\n",
       "      <td>3.803054</td>\n",
       "      <td>201.050337</td>\n",
       "      <td>3.498233</td>\n",
       "      <td>0.144610</td>\n",
       "      <td>0.238083</td>\n",
       "      <td>0.021268</td>\n",
       "    </tr>\n",
       "    <tr>\n",
       "      <th>std</th>\n",
       "      <td>0.248631</td>\n",
       "      <td>0.171169</td>\n",
       "      <td>1.232592</td>\n",
       "      <td>49.943099</td>\n",
       "      <td>1.460136</td>\n",
       "      <td>0.351719</td>\n",
       "      <td>0.425924</td>\n",
       "      <td>0.144281</td>\n",
       "    </tr>\n",
       "    <tr>\n",
       "      <th>min</th>\n",
       "      <td>0.090000</td>\n",
       "      <td>0.360000</td>\n",
       "      <td>2.000000</td>\n",
       "      <td>96.000000</td>\n",
       "      <td>2.000000</td>\n",
       "      <td>0.000000</td>\n",
       "      <td>0.000000</td>\n",
       "      <td>0.000000</td>\n",
       "    </tr>\n",
       "    <tr>\n",
       "      <th>25%</th>\n",
       "      <td>0.440000</td>\n",
       "      <td>0.560000</td>\n",
       "      <td>3.000000</td>\n",
       "      <td>156.000000</td>\n",
       "      <td>3.000000</td>\n",
       "      <td>0.000000</td>\n",
       "      <td>0.000000</td>\n",
       "      <td>0.000000</td>\n",
       "    </tr>\n",
       "    <tr>\n",
       "      <th>50%</th>\n",
       "      <td>0.640000</td>\n",
       "      <td>0.720000</td>\n",
       "      <td>4.000000</td>\n",
       "      <td>200.000000</td>\n",
       "      <td>3.000000</td>\n",
       "      <td>0.000000</td>\n",
       "      <td>0.000000</td>\n",
       "      <td>0.000000</td>\n",
       "    </tr>\n",
       "    <tr>\n",
       "      <th>75%</th>\n",
       "      <td>0.820000</td>\n",
       "      <td>0.870000</td>\n",
       "      <td>5.000000</td>\n",
       "      <td>245.000000</td>\n",
       "      <td>4.000000</td>\n",
       "      <td>0.000000</td>\n",
       "      <td>0.000000</td>\n",
       "      <td>0.000000</td>\n",
       "    </tr>\n",
       "    <tr>\n",
       "      <th>max</th>\n",
       "      <td>1.000000</td>\n",
       "      <td>1.000000</td>\n",
       "      <td>7.000000</td>\n",
       "      <td>310.000000</td>\n",
       "      <td>10.000000</td>\n",
       "      <td>1.000000</td>\n",
       "      <td>1.000000</td>\n",
       "      <td>1.000000</td>\n",
       "    </tr>\n",
       "  </tbody>\n",
       "</table>\n",
       "</div>"
      ],
      "text/plain": [
       "       satisfaction_level  last_evaluation  number_project  \\\n",
       "count        14999.000000     14999.000000    14999.000000   \n",
       "mean             0.612834         0.716102        3.803054   \n",
       "std              0.248631         0.171169        1.232592   \n",
       "min              0.090000         0.360000        2.000000   \n",
       "25%              0.440000         0.560000        3.000000   \n",
       "50%              0.640000         0.720000        4.000000   \n",
       "75%              0.820000         0.870000        5.000000   \n",
       "max              1.000000         1.000000        7.000000   \n",
       "\n",
       "       average_montly_hours  time_spend_company  Work_accident          left  \\\n",
       "count          14999.000000        14999.000000   14999.000000  14999.000000   \n",
       "mean             201.050337            3.498233       0.144610      0.238083   \n",
       "std               49.943099            1.460136       0.351719      0.425924   \n",
       "min               96.000000            2.000000       0.000000      0.000000   \n",
       "25%              156.000000            3.000000       0.000000      0.000000   \n",
       "50%              200.000000            3.000000       0.000000      0.000000   \n",
       "75%              245.000000            4.000000       0.000000      0.000000   \n",
       "max              310.000000           10.000000       1.000000      1.000000   \n",
       "\n",
       "       promotion_last_5years  \n",
       "count           14999.000000  \n",
       "mean                0.021268  \n",
       "std                 0.144281  \n",
       "min                 0.000000  \n",
       "25%                 0.000000  \n",
       "50%                 0.000000  \n",
       "75%                 0.000000  \n",
       "max                 1.000000  "
      ]
     },
     "execution_count": 15,
     "metadata": {},
     "output_type": "execute_result"
    }
   ],
   "source": [
    "df2.describe()"
   ]
  },
  {
   "cell_type": "code",
   "execution_count": 16,
   "metadata": {},
   "outputs": [
    {
     "data": {
      "text/html": [
       "<div>\n",
       "<style>\n",
       "    .dataframe thead tr:only-child th {\n",
       "        text-align: right;\n",
       "    }\n",
       "\n",
       "    .dataframe thead th {\n",
       "        text-align: left;\n",
       "    }\n",
       "\n",
       "    .dataframe tbody tr th {\n",
       "        vertical-align: top;\n",
       "    }\n",
       "</style>\n",
       "<table border=\"1\" class=\"dataframe\">\n",
       "  <thead>\n",
       "    <tr style=\"text-align: right;\">\n",
       "      <th></th>\n",
       "      <th>satisfaction_level_cat</th>\n",
       "      <th>last_evaluation_cat</th>\n",
       "      <th>number_project</th>\n",
       "      <th>avg_monthly_hours_cat</th>\n",
       "      <th>time_spend_company</th>\n",
       "      <th>Work_accident</th>\n",
       "      <th>left</th>\n",
       "      <th>promotion_last_5years</th>\n",
       "      <th>sales</th>\n",
       "      <th>salary</th>\n",
       "    </tr>\n",
       "  </thead>\n",
       "  <tbody>\n",
       "    <tr>\n",
       "      <th>0</th>\n",
       "      <td>Insoddisfatto</td>\n",
       "      <td>Insufficiente</td>\n",
       "      <td>2</td>\n",
       "      <td>141-162</td>\n",
       "      <td>3</td>\n",
       "      <td>0</td>\n",
       "      <td>1</td>\n",
       "      <td>0</td>\n",
       "      <td>sales</td>\n",
       "      <td>low</td>\n",
       "    </tr>\n",
       "    <tr>\n",
       "      <th>1</th>\n",
       "      <td>Molto soddisfatto</td>\n",
       "      <td>Buono</td>\n",
       "      <td>5</td>\n",
       "      <td>251-272</td>\n",
       "      <td>6</td>\n",
       "      <td>0</td>\n",
       "      <td>1</td>\n",
       "      <td>0</td>\n",
       "      <td>sales</td>\n",
       "      <td>medium</td>\n",
       "    </tr>\n",
       "    <tr>\n",
       "      <th>2</th>\n",
       "      <td>Molto insoddisfatto</td>\n",
       "      <td>Buono</td>\n",
       "      <td>7</td>\n",
       "      <td>251-272</td>\n",
       "      <td>4</td>\n",
       "      <td>0</td>\n",
       "      <td>1</td>\n",
       "      <td>0</td>\n",
       "      <td>sales</td>\n",
       "      <td>medium</td>\n",
       "    </tr>\n",
       "    <tr>\n",
       "      <th>3</th>\n",
       "      <td>Soddisfatto</td>\n",
       "      <td>Buono</td>\n",
       "      <td>5</td>\n",
       "      <td>207-228</td>\n",
       "      <td>5</td>\n",
       "      <td>0</td>\n",
       "      <td>1</td>\n",
       "      <td>0</td>\n",
       "      <td>sales</td>\n",
       "      <td>low</td>\n",
       "    </tr>\n",
       "    <tr>\n",
       "      <th>4</th>\n",
       "      <td>Insoddisfatto</td>\n",
       "      <td>Insufficiente</td>\n",
       "      <td>2</td>\n",
       "      <td>141-162</td>\n",
       "      <td>3</td>\n",
       "      <td>0</td>\n",
       "      <td>1</td>\n",
       "      <td>0</td>\n",
       "      <td>sales</td>\n",
       "      <td>low</td>\n",
       "    </tr>\n",
       "  </tbody>\n",
       "</table>\n",
       "</div>"
      ],
      "text/plain": [
       "  satisfaction_level_cat last_evaluation_cat  number_project  \\\n",
       "0          Insoddisfatto       Insufficiente               2   \n",
       "1      Molto soddisfatto               Buono               5   \n",
       "2    Molto insoddisfatto               Buono               7   \n",
       "3            Soddisfatto               Buono               5   \n",
       "4          Insoddisfatto       Insufficiente               2   \n",
       "\n",
       "  avg_monthly_hours_cat  time_spend_company  Work_accident  left  \\\n",
       "0               141-162                   3              0     1   \n",
       "1               251-272                   6              0     1   \n",
       "2               251-272                   4              0     1   \n",
       "3               207-228                   5              0     1   \n",
       "4               141-162                   3              0     1   \n",
       "\n",
       "   promotion_last_5years  sales  salary  \n",
       "0                      0  sales     low  \n",
       "1                      0  sales  medium  \n",
       "2                      0  sales  medium  \n",
       "3                      0  sales     low  \n",
       "4                      0  sales     low  "
      ]
     },
     "execution_count": 16,
     "metadata": {},
     "output_type": "execute_result"
    }
   ],
   "source": [
    "df2.drop(['satisfaction_level', 'last_evaluation', 'average_montly_hours'], axis=1, inplace=True)\n",
    "df2 = df2[['satisfaction_level_cat', 'last_evaluation_cat', 'number_project', 'avg_monthly_hours_cat', 'time_spend_company', 'Work_accident', 'left', 'promotion_last_5years', 'sales', 'salary']]\n",
    "df2.head()"
   ]
  },
  {
   "cell_type": "code",
   "execution_count": 17,
   "metadata": {
    "collapsed": true
   },
   "outputs": [],
   "source": [
    "#df3 = df2.copy()\n",
    "#df3['satisfaction_level_cat'] = df2['satisfaction_level_cat'].astype(str) + '_SAT'\n",
    "#df3['last_evaluation_cat'] = df2['last_evaluation_cat'].astype(str) + '_LE'\n",
    "#df3['number_project_cat'] = df2['number_project_cat'].astype(str) + '_NP'\n",
    "#df3['avg_monthly_hours_cat'] = df2['avg_monthly_hours_cat'].astype(str) + '_AMH'\n",
    "#df3['time_spend_company_cat'] = df2['time_spend_company_cat'].astype(str) + '_TSC'\n",
    "#df3['Work_accident'] = df2['Work_accident'].astype(str) + '_WA'\n",
    "#df3['left'] = df2['left'].astype(str) + '_L'\n",
    "#df3['promotion_last_5years'] = df2['promotion_last_5years'].astype(str) + '_P'\n",
    "#df3['sales'] = df2['sales'].astype(str) + '_D'\n",
    "#df3['salary'] = df2['salary'].astype(str) + '_SA'"
   ]
  },
  {
   "cell_type": "code",
   "execution_count": 18,
   "metadata": {
    "collapsed": true
   },
   "outputs": [],
   "source": [
    "df3 = df2.copy()\n",
    "df3['satisfaction_level_cat'] = df2['satisfaction_level_cat'].astype(str) + '_SAT'\n",
    "df3['last_evaluation_cat'] = df2['last_evaluation_cat'].astype(str) + '_LE'\n",
    "df3['number_project'] = df2['number_project'].astype(str) + '_NP'\n",
    "df3['avg_monthly_hours_cat'] = df2['avg_monthly_hours_cat'].astype(str) + '_AMH'\n",
    "df3['time_spend_company'] = df2['time_spend_company'].astype(str) + '_TSC'\n",
    "df3['Work_accident'] = df2['Work_accident'].astype(str) + '_WA'\n",
    "df3['left'] = df2['left'].astype(str) + '_L'\n",
    "df3['promotion_last_5years'] = df2['promotion_last_5years'].astype(str) + '_P'\n",
    "df3['sales'] = df2['sales'].astype(str) + '_D'\n",
    "df3['salary'] = df2['salary'].astype(str) + '_SA'"
   ]
  },
  {
   "cell_type": "code",
   "execution_count": 19,
   "metadata": {},
   "outputs": [
    {
     "data": {
      "text/html": [
       "<div>\n",
       "<style>\n",
       "    .dataframe thead tr:only-child th {\n",
       "        text-align: right;\n",
       "    }\n",
       "\n",
       "    .dataframe thead th {\n",
       "        text-align: left;\n",
       "    }\n",
       "\n",
       "    .dataframe tbody tr th {\n",
       "        vertical-align: top;\n",
       "    }\n",
       "</style>\n",
       "<table border=\"1\" class=\"dataframe\">\n",
       "  <thead>\n",
       "    <tr style=\"text-align: right;\">\n",
       "      <th></th>\n",
       "      <th>satisfaction_level_cat</th>\n",
       "      <th>last_evaluation_cat</th>\n",
       "      <th>number_project</th>\n",
       "      <th>avg_monthly_hours_cat</th>\n",
       "      <th>time_spend_company</th>\n",
       "      <th>Work_accident</th>\n",
       "      <th>left</th>\n",
       "      <th>promotion_last_5years</th>\n",
       "      <th>sales</th>\n",
       "      <th>salary</th>\n",
       "    </tr>\n",
       "  </thead>\n",
       "  <tbody>\n",
       "    <tr>\n",
       "      <th>0</th>\n",
       "      <td>Insoddisfatto_SAT</td>\n",
       "      <td>Insufficiente_LE</td>\n",
       "      <td>2_NP</td>\n",
       "      <td>141-162_AMH</td>\n",
       "      <td>3_TSC</td>\n",
       "      <td>0_WA</td>\n",
       "      <td>1_L</td>\n",
       "      <td>0_P</td>\n",
       "      <td>sales_D</td>\n",
       "      <td>low_SA</td>\n",
       "    </tr>\n",
       "    <tr>\n",
       "      <th>1</th>\n",
       "      <td>Molto soddisfatto_SAT</td>\n",
       "      <td>Buono_LE</td>\n",
       "      <td>5_NP</td>\n",
       "      <td>251-272_AMH</td>\n",
       "      <td>6_TSC</td>\n",
       "      <td>0_WA</td>\n",
       "      <td>1_L</td>\n",
       "      <td>0_P</td>\n",
       "      <td>sales_D</td>\n",
       "      <td>medium_SA</td>\n",
       "    </tr>\n",
       "    <tr>\n",
       "      <th>2</th>\n",
       "      <td>Molto insoddisfatto_SAT</td>\n",
       "      <td>Buono_LE</td>\n",
       "      <td>7_NP</td>\n",
       "      <td>251-272_AMH</td>\n",
       "      <td>4_TSC</td>\n",
       "      <td>0_WA</td>\n",
       "      <td>1_L</td>\n",
       "      <td>0_P</td>\n",
       "      <td>sales_D</td>\n",
       "      <td>medium_SA</td>\n",
       "    </tr>\n",
       "    <tr>\n",
       "      <th>3</th>\n",
       "      <td>Soddisfatto_SAT</td>\n",
       "      <td>Buono_LE</td>\n",
       "      <td>5_NP</td>\n",
       "      <td>207-228_AMH</td>\n",
       "      <td>5_TSC</td>\n",
       "      <td>0_WA</td>\n",
       "      <td>1_L</td>\n",
       "      <td>0_P</td>\n",
       "      <td>sales_D</td>\n",
       "      <td>low_SA</td>\n",
       "    </tr>\n",
       "    <tr>\n",
       "      <th>4</th>\n",
       "      <td>Insoddisfatto_SAT</td>\n",
       "      <td>Insufficiente_LE</td>\n",
       "      <td>2_NP</td>\n",
       "      <td>141-162_AMH</td>\n",
       "      <td>3_TSC</td>\n",
       "      <td>0_WA</td>\n",
       "      <td>1_L</td>\n",
       "      <td>0_P</td>\n",
       "      <td>sales_D</td>\n",
       "      <td>low_SA</td>\n",
       "    </tr>\n",
       "  </tbody>\n",
       "</table>\n",
       "</div>"
      ],
      "text/plain": [
       "    satisfaction_level_cat last_evaluation_cat number_project  \\\n",
       "0        Insoddisfatto_SAT    Insufficiente_LE           2_NP   \n",
       "1    Molto soddisfatto_SAT            Buono_LE           5_NP   \n",
       "2  Molto insoddisfatto_SAT            Buono_LE           7_NP   \n",
       "3          Soddisfatto_SAT            Buono_LE           5_NP   \n",
       "4        Insoddisfatto_SAT    Insufficiente_LE           2_NP   \n",
       "\n",
       "  avg_monthly_hours_cat time_spend_company Work_accident left  \\\n",
       "0           141-162_AMH              3_TSC          0_WA  1_L   \n",
       "1           251-272_AMH              6_TSC          0_WA  1_L   \n",
       "2           251-272_AMH              4_TSC          0_WA  1_L   \n",
       "3           207-228_AMH              5_TSC          0_WA  1_L   \n",
       "4           141-162_AMH              3_TSC          0_WA  1_L   \n",
       "\n",
       "  promotion_last_5years    sales     salary  \n",
       "0                   0_P  sales_D     low_SA  \n",
       "1                   0_P  sales_D  medium_SA  \n",
       "2                   0_P  sales_D  medium_SA  \n",
       "3                   0_P  sales_D     low_SA  \n",
       "4                   0_P  sales_D     low_SA  "
      ]
     },
     "execution_count": 19,
     "metadata": {},
     "output_type": "execute_result"
    }
   ],
   "source": [
    "df3.head()"
   ]
  },
  {
   "cell_type": "code",
   "execution_count": 20,
   "metadata": {},
   "outputs": [
    {
     "data": {
      "text/html": [
       "<div>\n",
       "<style>\n",
       "    .dataframe thead tr:only-child th {\n",
       "        text-align: right;\n",
       "    }\n",
       "\n",
       "    .dataframe thead th {\n",
       "        text-align: left;\n",
       "    }\n",
       "\n",
       "    .dataframe tbody tr th {\n",
       "        vertical-align: top;\n",
       "    }\n",
       "</style>\n",
       "<table border=\"1\" class=\"dataframe\">\n",
       "  <thead>\n",
       "    <tr style=\"text-align: right;\">\n",
       "      <th></th>\n",
       "      <th>satisfaction_level_cat</th>\n",
       "      <th>last_evaluation_cat</th>\n",
       "      <th>number_project</th>\n",
       "      <th>avg_monthly_hours_cat</th>\n",
       "      <th>time_spend_company</th>\n",
       "      <th>Work_accident</th>\n",
       "      <th>left</th>\n",
       "      <th>promotion_last_5years</th>\n",
       "      <th>sales</th>\n",
       "      <th>salary</th>\n",
       "    </tr>\n",
       "  </thead>\n",
       "  <tbody>\n",
       "    <tr>\n",
       "      <th>count</th>\n",
       "      <td>14999</td>\n",
       "      <td>14999</td>\n",
       "      <td>14999</td>\n",
       "      <td>14999</td>\n",
       "      <td>14999</td>\n",
       "      <td>14999</td>\n",
       "      <td>14999</td>\n",
       "      <td>14999</td>\n",
       "      <td>14999</td>\n",
       "      <td>14999</td>\n",
       "    </tr>\n",
       "    <tr>\n",
       "      <th>unique</th>\n",
       "      <td>5</td>\n",
       "      <td>5</td>\n",
       "      <td>6</td>\n",
       "      <td>10</td>\n",
       "      <td>8</td>\n",
       "      <td>2</td>\n",
       "      <td>2</td>\n",
       "      <td>2</td>\n",
       "      <td>10</td>\n",
       "      <td>3</td>\n",
       "    </tr>\n",
       "    <tr>\n",
       "      <th>top</th>\n",
       "      <td>Soddisfatto_SAT</td>\n",
       "      <td>Buono_LE</td>\n",
       "      <td>4_NP</td>\n",
       "      <td>141-162_AMH</td>\n",
       "      <td>3_TSC</td>\n",
       "      <td>0_WA</td>\n",
       "      <td>0_L</td>\n",
       "      <td>0_P</td>\n",
       "      <td>sales_D</td>\n",
       "      <td>low_SA</td>\n",
       "    </tr>\n",
       "    <tr>\n",
       "      <th>freq</th>\n",
       "      <td>4239</td>\n",
       "      <td>3999</td>\n",
       "      <td>4365</td>\n",
       "      <td>2667</td>\n",
       "      <td>6443</td>\n",
       "      <td>12830</td>\n",
       "      <td>11428</td>\n",
       "      <td>14680</td>\n",
       "      <td>4140</td>\n",
       "      <td>7316</td>\n",
       "    </tr>\n",
       "  </tbody>\n",
       "</table>\n",
       "</div>"
      ],
      "text/plain": [
       "       satisfaction_level_cat last_evaluation_cat number_project  \\\n",
       "count                   14999               14999          14999   \n",
       "unique                      5                   5              6   \n",
       "top           Soddisfatto_SAT            Buono_LE           4_NP   \n",
       "freq                     4239                3999           4365   \n",
       "\n",
       "       avg_monthly_hours_cat time_spend_company Work_accident   left  \\\n",
       "count                  14999              14999         14999  14999   \n",
       "unique                    10                  8             2      2   \n",
       "top              141-162_AMH              3_TSC          0_WA    0_L   \n",
       "freq                    2667               6443         12830  11428   \n",
       "\n",
       "       promotion_last_5years    sales  salary  \n",
       "count                  14999    14999   14999  \n",
       "unique                     2       10       3  \n",
       "top                      0_P  sales_D  low_SA  \n",
       "freq                   14680     4140    7316  "
      ]
     },
     "execution_count": 20,
     "metadata": {},
     "output_type": "execute_result"
    }
   ],
   "source": [
    "df3.describe()"
   ]
  },
  {
   "cell_type": "code",
   "execution_count": 21,
   "metadata": {
    "collapsed": true
   },
   "outputs": [],
   "source": [
    "df3.to_csv('hr_for_patterns.csv', sep=',', header=True)"
   ]
  },
  {
   "cell_type": "code",
   "execution_count": 22,
   "metadata": {
    "collapsed": true
   },
   "outputs": [],
   "source": [
    "hr_baskets_list = list()\n",
    "for row in df3.values:\n",
    "    hr_baskets_list.append(list(row))"
   ]
  },
  {
   "cell_type": "code",
   "execution_count": 23,
   "metadata": {
    "collapsed": true
   },
   "outputs": [],
   "source": [
    "#hr_baskets_list"
   ]
  },
  {
   "cell_type": "code",
   "execution_count": 24,
   "metadata": {},
   "outputs": [
    {
     "data": {
      "text/plain": [
       "14999"
      ]
     },
     "execution_count": 24,
     "metadata": {},
     "output_type": "execute_result"
    }
   ],
   "source": [
    "len(hr_baskets_list)"
   ]
  },
  {
   "cell_type": "code",
   "execution_count": null,
   "metadata": {},
   "outputs": [],
   "source": []
  },
  {
   "cell_type": "code",
   "execution_count": 25,
   "metadata": {
    "collapsed": true
   },
   "outputs": [],
   "source": [
    "#help(apriori)"
   ]
  },
  {
   "cell_type": "markdown",
   "metadata": {},
   "source": [
    "# Patterns"
   ]
  },
  {
   "cell_type": "code",
   "execution_count": 44,
   "metadata": {
    "collapsed": true
   },
   "outputs": [],
   "source": [
    "frequent_patterns = apriori(hr_baskets_list, supp=20, zmin=3, target = 's')"
   ]
  },
  {
   "cell_type": "code",
   "execution_count": 45,
   "metadata": {},
   "outputs": [
    {
     "data": {
      "text/plain": [
       "36"
      ]
     },
     "execution_count": 45,
     "metadata": {},
     "output_type": "execute_result"
    }
   ],
   "source": [
    "len(frequent_patterns)"
   ]
  },
  {
   "cell_type": "code",
   "execution_count": 47,
   "metadata": {},
   "outputs": [
    {
     "data": {
      "text/plain": [
       "[(('0_L', '0_WA', '0_P'), 9200),\n",
       " (('low_SA', '0_WA', '0_P'), 6228),\n",
       " (('3_TSC', '0_WA', '0_P'), 5446),\n",
       " (('medium_SA', '0_WA', '0_P'), 5371),\n",
       " (('low_SA', '0_L', '0_P'), 5092),\n",
       " (('medium_SA', '0_L', '0_P'), 4953),\n",
       " (('3_TSC', '0_L', '0_P'), 4738),\n",
       " (('medium_SA', '0_L', '0_WA'), 4266),\n",
       " (('low_SA', '0_L', '0_WA'), 4199),\n",
       " (('low_SA', '0_L', '0_WA', '0_P'), 4162),\n",
       " (('medium_SA', '0_L', '0_WA', '0_P'), 4132),\n",
       " (('3_TSC', '0_L', '0_WA'), 4036),\n",
       " (('3_TSC', '0_L', '0_WA', '0_P'), 3946),\n",
       " (('3_NP', '0_L', '0_P'), 3888),\n",
       " (('4_NP', '0_L', '0_P'), 3843),\n",
       " (('Soddisfatto_SAT', '0_L', '0_P'), 3750),\n",
       " (('4_NP', '0_WA', '0_P'), 3590),\n",
       " (('Molto soddisfatto_SAT', '0_L', '0_P'), 3549),\n",
       " (('Molto soddisfatto_SAT', '0_WA', '0_P'), 3483),\n",
       " (('sales_D', '0_WA', '0_P'), 3482),\n",
       " (('Soddisfatto_SAT', '0_WA', '0_P'), 3459),\n",
       " (('Buono_LE', '0_WA', '0_P'), 3389),\n",
       " (('1_L', '0_WA', '0_P'), 3387),\n",
       " (('4_NP', '0_L', '0_WA'), 3300),\n",
       " (('3_NP', '0_L', '0_WA'), 3274),\n",
       " (('3_NP', '0_WA', '0_P'), 3271),\n",
       " (('4_NP', '0_L', '0_WA', '0_P'), 3211),\n",
       " (('3_NP', '0_L', '0_WA', '0_P'), 3200),\n",
       " (('3_TSC', 'low_SA', '0_P'), 3173),\n",
       " (('Soddisfatto_SAT', '0_L', '0_WA'), 3142),\n",
       " (('2_TSC', '0_L', '0_P'), 3137),\n",
       " (('Insufficiente_LE', '0_WA', '0_P'), 3080),\n",
       " (('Soddisfatto_SAT', '0_L', '0_WA', '0_P'), 3077),\n",
       " (('Neutrale_SAT', '0_WA', '0_P'), 3066),\n",
       " (('sales_D', '0_L', '0_P'), 3033),\n",
       " (('Molto soddisfatto_SAT', '0_L', '0_WA'), 3021)]"
      ]
     },
     "execution_count": 47,
     "metadata": {},
     "output_type": "execute_result"
    }
   ],
   "source": [
    "frequent_patterns.sort(key=lambda pattern: pattern[1], reverse=True)\n",
    "frequent_patterns"
   ]
  },
  {
   "cell_type": "code",
   "execution_count": 48,
   "metadata": {
    "collapsed": true
   },
   "outputs": [],
   "source": [
    "closed_patterns = apriori(hr_baskets_list, supp=20, zmin=3, target = 'c')"
   ]
  },
  {
   "cell_type": "code",
   "execution_count": 49,
   "metadata": {},
   "outputs": [
    {
     "data": {
      "text/plain": [
       "36"
      ]
     },
     "execution_count": 49,
     "metadata": {},
     "output_type": "execute_result"
    }
   ],
   "source": [
    "len(closed_patterns)"
   ]
  },
  {
   "cell_type": "code",
   "execution_count": 51,
   "metadata": {},
   "outputs": [
    {
     "data": {
      "text/plain": [
       "[(('0_L', '0_WA', '0_P'), 9200),\n",
       " (('low_SA', '0_WA', '0_P'), 6228),\n",
       " (('3_TSC', '0_WA', '0_P'), 5446),\n",
       " (('medium_SA', '0_WA', '0_P'), 5371),\n",
       " (('low_SA', '0_L', '0_P'), 5092),\n",
       " (('medium_SA', '0_L', '0_P'), 4953),\n",
       " (('3_TSC', '0_L', '0_P'), 4738),\n",
       " (('medium_SA', '0_L', '0_WA'), 4266),\n",
       " (('low_SA', '0_L', '0_WA'), 4199),\n",
       " (('low_SA', '0_L', '0_WA', '0_P'), 4162),\n",
       " (('medium_SA', '0_L', '0_WA', '0_P'), 4132),\n",
       " (('3_TSC', '0_L', '0_WA'), 4036),\n",
       " (('3_TSC', '0_L', '0_WA', '0_P'), 3946),\n",
       " (('3_NP', '0_L', '0_P'), 3888),\n",
       " (('4_NP', '0_L', '0_P'), 3843),\n",
       " (('Soddisfatto_SAT', '0_L', '0_P'), 3750),\n",
       " (('4_NP', '0_WA', '0_P'), 3590),\n",
       " (('Molto soddisfatto_SAT', '0_L', '0_P'), 3549),\n",
       " (('Molto soddisfatto_SAT', '0_WA', '0_P'), 3483),\n",
       " (('sales_D', '0_WA', '0_P'), 3482),\n",
       " (('Soddisfatto_SAT', '0_WA', '0_P'), 3459),\n",
       " (('Buono_LE', '0_WA', '0_P'), 3389),\n",
       " (('1_L', '0_WA', '0_P'), 3387),\n",
       " (('4_NP', '0_L', '0_WA'), 3300),\n",
       " (('3_NP', '0_L', '0_WA'), 3274),\n",
       " (('3_NP', '0_WA', '0_P'), 3271),\n",
       " (('4_NP', '0_L', '0_WA', '0_P'), 3211),\n",
       " (('3_NP', '0_L', '0_WA', '0_P'), 3200),\n",
       " (('3_TSC', 'low_SA', '0_P'), 3173),\n",
       " (('Soddisfatto_SAT', '0_L', '0_WA'), 3142),\n",
       " (('2_TSC', '0_L', '0_P'), 3137),\n",
       " (('Insufficiente_LE', '0_WA', '0_P'), 3080),\n",
       " (('Soddisfatto_SAT', '0_L', '0_WA', '0_P'), 3077),\n",
       " (('Neutrale_SAT', '0_WA', '0_P'), 3066),\n",
       " (('sales_D', '0_L', '0_P'), 3033),\n",
       " (('Molto soddisfatto_SAT', '0_L', '0_WA'), 3021)]"
      ]
     },
     "execution_count": 51,
     "metadata": {},
     "output_type": "execute_result"
    }
   ],
   "source": [
    "closed_patterns.sort(key=lambda pattern: pattern[1], reverse=True)\n",
    "closed_patterns"
   ]
  },
  {
   "cell_type": "code",
   "execution_count": 55,
   "metadata": {
    "collapsed": true
   },
   "outputs": [],
   "source": [
    "maximal_patterns = apriori(hr_baskets_list, supp=20, zmin=3, target = 'm')"
   ]
  },
  {
   "cell_type": "code",
   "execution_count": 56,
   "metadata": {},
   "outputs": [
    {
     "data": {
      "text/plain": [
       "17"
      ]
     },
     "execution_count": 56,
     "metadata": {},
     "output_type": "execute_result"
    }
   ],
   "source": [
    "len(maximal_patterns)"
   ]
  },
  {
   "cell_type": "code",
   "execution_count": 57,
   "metadata": {},
   "outputs": [
    {
     "data": {
      "text/plain": [
       "(('2_TSC', '0_L', '0_P'), 3137)"
      ]
     },
     "execution_count": 57,
     "metadata": {},
     "output_type": "execute_result"
    }
   ],
   "source": [
    "max_pat = maximal_patterns[0]\n",
    "max_pat"
   ]
  },
  {
   "cell_type": "code",
   "execution_count": 58,
   "metadata": {},
   "outputs": [
    {
     "data": {
      "text/plain": [
       "3137"
      ]
     },
     "execution_count": 58,
     "metadata": {},
     "output_type": "execute_result"
    }
   ],
   "source": [
    "max_pat[1]"
   ]
  },
  {
   "cell_type": "code",
   "execution_count": 59,
   "metadata": {
    "scrolled": true
   },
   "outputs": [
    {
     "data": {
      "text/plain": [
       "[(('2_TSC', '0_L', '0_P'), 3137),\n",
       " (('1_L', '0_WA', '0_P'), 3387),\n",
       " (('Insufficiente_LE', '0_WA', '0_P'), 3080),\n",
       " (('Neutrale_SAT', '0_WA', '0_P'), 3066),\n",
       " (('Buono_LE', '0_WA', '0_P'), 3389),\n",
       " (('3_NP', '0_L', '0_WA', '0_P'), 3200),\n",
       " (('sales_D', '0_L', '0_P'), 3033),\n",
       " (('sales_D', '0_WA', '0_P'), 3482),\n",
       " (('Molto soddisfatto_SAT', '0_L', '0_WA'), 3021),\n",
       " (('Molto soddisfatto_SAT', '0_L', '0_P'), 3549),\n",
       " (('Molto soddisfatto_SAT', '0_WA', '0_P'), 3483),\n",
       " (('Soddisfatto_SAT', '0_L', '0_WA', '0_P'), 3077),\n",
       " (('4_NP', '0_L', '0_WA', '0_P'), 3211),\n",
       " (('3_TSC', 'low_SA', '0_P'), 3173),\n",
       " (('3_TSC', '0_L', '0_WA', '0_P'), 3946),\n",
       " (('medium_SA', '0_L', '0_WA', '0_P'), 4132),\n",
       " (('low_SA', '0_L', '0_WA', '0_P'), 4162)]"
      ]
     },
     "execution_count": 59,
     "metadata": {},
     "output_type": "execute_result"
    }
   ],
   "source": [
    "maximal_patterns"
   ]
  },
  {
   "cell_type": "code",
   "execution_count": 60,
   "metadata": {
    "scrolled": true
   },
   "outputs": [
    {
     "data": {
      "text/plain": [
       "[(('low_SA', '0_L', '0_WA', '0_P'), 4162),\n",
       " (('medium_SA', '0_L', '0_WA', '0_P'), 4132),\n",
       " (('3_TSC', '0_L', '0_WA', '0_P'), 3946),\n",
       " (('Molto soddisfatto_SAT', '0_L', '0_P'), 3549),\n",
       " (('Molto soddisfatto_SAT', '0_WA', '0_P'), 3483),\n",
       " (('sales_D', '0_WA', '0_P'), 3482),\n",
       " (('Buono_LE', '0_WA', '0_P'), 3389),\n",
       " (('1_L', '0_WA', '0_P'), 3387),\n",
       " (('4_NP', '0_L', '0_WA', '0_P'), 3211),\n",
       " (('3_NP', '0_L', '0_WA', '0_P'), 3200),\n",
       " (('3_TSC', 'low_SA', '0_P'), 3173),\n",
       " (('2_TSC', '0_L', '0_P'), 3137),\n",
       " (('Insufficiente_LE', '0_WA', '0_P'), 3080),\n",
       " (('Soddisfatto_SAT', '0_L', '0_WA', '0_P'), 3077),\n",
       " (('Neutrale_SAT', '0_WA', '0_P'), 3066),\n",
       " (('sales_D', '0_L', '0_P'), 3033),\n",
       " (('Molto soddisfatto_SAT', '0_L', '0_WA'), 3021)]"
      ]
     },
     "execution_count": 60,
     "metadata": {},
     "output_type": "execute_result"
    }
   ],
   "source": [
    "maximal_patterns.sort(key=lambda pattern: pattern[1], reverse=True)\n",
    "maximal_patterns"
   ]
  },
  {
   "cell_type": "markdown",
   "metadata": {},
   "source": [
    "# Regole"
   ]
  },
  {
   "cell_type": "code",
   "execution_count": 73,
   "metadata": {
    "collapsed": true
   },
   "outputs": [],
   "source": [
    "rules = apriori(hr_baskets_list, supp=10, zmin=2, target='r', conf=80, report='ascl')"
   ]
  },
  {
   "cell_type": "code",
   "execution_count": 74,
   "metadata": {},
   "outputs": [
    {
     "data": {
      "text/plain": [
       "('0_WA',\n",
       " ('Insoddisfatto_SAT',),\n",
       " 1337,\n",
       " 0.08913927595173012,\n",
       " 0.8877822045152722,\n",
       " 1.0378679100175034)"
      ]
     },
     "execution_count": 74,
     "metadata": {},
     "output_type": "execute_result"
    }
   ],
   "source": [
    "first_rule = rules[0]\n",
    "first_rule"
   ]
  },
  {
   "cell_type": "code",
   "execution_count": 75,
   "metadata": {},
   "outputs": [
    {
     "data": {
      "text/plain": [
       "484"
      ]
     },
     "execution_count": 75,
     "metadata": {},
     "output_type": "execute_result"
    }
   ],
   "source": [
    "len(rules)"
   ]
  },
  {
   "cell_type": "code",
   "execution_count": 76,
   "metadata": {},
   "outputs": [
    {
     "data": {
      "text/plain": [
       "(6, 83)"
      ]
     },
     "execution_count": 76,
     "metadata": {},
     "output_type": "execute_result"
    }
   ],
   "source": [
    "rules_left = list()\n",
    "rules_not_left = list()\n",
    "for rule in rules:\n",
    "    if rule[0] == '1_L':\n",
    "        rules_left.append(rule)\n",
    "    elif rule[0] == '0_L':\n",
    "        rules_not_left.append(rule)\n",
    "len(rules_left), len(rules_not_left)"
   ]
  },
  {
   "cell_type": "code",
   "execution_count": 79,
   "metadata": {},
   "outputs": [
    {
     "data": {
      "text/plain": [
       "(6, 83)"
      ]
     },
     "execution_count": 79,
     "metadata": {},
     "output_type": "execute_result"
    }
   ],
   "source": [
    "min_lift = 1.0\n",
    "interesting_left_rules = list()\n",
    "interesting_not_left_rules = list()\n",
    "\n",
    "for rule in rules_left:\n",
    "    if rule[5] > min_lift:\n",
    "        interesting_left_rules.append(rule)\n",
    "for rule in rules_not_left:\n",
    "    if rule[5] > min_lift:\n",
    "        interesting_not_left_rules.append(rule)    \n",
    "        \n",
    "len(interesting_left_rules), len(interesting_not_left_rules)"
   ]
  },
  {
   "cell_type": "code",
   "execution_count": 81,
   "metadata": {},
   "outputs": [
    {
     "name": "stdout",
     "output_type": "stream",
     "text": [
      "('1_L', ('2_NP', '3_TSC', '0_WA', '0_P'), 1446, 0.09640642709513968, 0.8431486880466472, 3.5414133777685977)\n",
      "('1_L', ('2_NP', 'Insufficiente_LE', '0_P'), 1292, 0.0861390759383959, 0.8427919112850619, 3.5399148354423535)\n",
      "('1_L', ('2_NP', '3_TSC', '0_WA'), 1455, 0.09700646709780653, 0.842501447596989, 3.5386948228807724)\n",
      "('1_L', ('2_NP', 'Insufficiente_LE'), 1301, 0.08673911594106273, 0.8350449293966624, 3.5073757759788684)\n",
      "('1_L', ('2_NP', '3_TSC', '0_P'), 1516, 0.10107340489365958, 0.8243610657966286, 3.4625011553860636)\n",
      "('1_L', ('2_NP', '3_TSC'), 1528, 0.1018734582305487, 0.8241639697950378, 3.461673308024579)\n"
     ]
    }
   ],
   "source": [
    "interesting_left_rules.sort(key=lambda rule: rule[5], reverse=True)\n",
    "for int_rule in interesting_left_rules:\n",
    "    print int_rule"
   ]
  },
  {
   "cell_type": "code",
   "execution_count": 82,
   "metadata": {
    "scrolled": true
   },
   "outputs": [
    {
     "name": "stdout",
     "output_type": "stream",
     "text": [
      "('0_L', ('3_NP',), 3983, 0.2655510367357824, 0.9822441430332922, 1.2891739500661838)\n",
      "('0_L', ('4_NP',), 3956, 0.26375091672778184, 0.9063001145475372, 1.1894990740373215)\n",
      "('0_L', ('3_NP', '0_P'), 3888, 0.2592172811520768, 0.9818181818181818, 1.288614885289719)\n",
      "('0_L', ('4_NP', '0_P'), 3843, 0.2562170811387426, 0.9046610169491526, 1.1873477942964945)\n",
      "('0_L', ('Soddisfatto_SAT',), 3841, 0.2560837389159277, 0.9061099315876386, 1.189249463062915)\n",
      "('0_L', ('Soddisfatto_SAT', '0_P'), 3750, 0.25001666777785186, 0.9047044632086851, 1.1874048165616966)\n",
      "('0_L', ('Molto soddisfatto_SAT',), 3647, 0.24314954330288685, 0.8633996212121212, 1.1331931150298045)\n",
      "('0_L', ('Molto soddisfatto_SAT', '0_P'), 3549, 0.236615774384959, 0.8603636363636363, 1.1292084513316576)\n",
      "('0_L', ('4_NP', '0_WA'), 3300, 0.22001466764450964, 0.8962520369364476, 1.1763111919854548)\n",
      "('0_L', ('3_NP', '0_WA'), 3274, 0.21828121874791653, 0.9787742899850523, 1.2846198438471998)\n",
      "('0_L', ('4_NP', '0_WA', '0_P'), 3211, 0.2140809387292486, 0.8944289693593315, 1.1739184556720872)\n",
      "('0_L', ('3_NP', '0_WA', '0_P'), 3200, 0.2133475565037669, 0.9782940996637114, 1.2839896045551284)\n",
      "('0_L', ('2_TSC',), 3191, 0.21274751650110008, 0.9836621454993835, 1.2910350472825738)\n",
      "('0_L', ('Soddisfatto_SAT', '0_WA'), 3142, 0.20948063204213616, 0.8908420754182025, 1.1692107358415837)\n",
      "('0_L', ('2_TSC', '0_P'), 3137, 0.209147276485099, 0.983385579937304, 1.2906720610325186)\n",
      "('0_L', ('Soddisfatto_SAT', '0_WA', '0_P'), 3077, 0.20514700980065337, 0.8895634576467187, 1.1675325779876735)\n",
      "('0_L', ('Molto soddisfatto_SAT', '0_WA'), 3021, 0.20141342756183744, 0.8476430976430976, 1.1125130225366486)\n",
      "('0_L', ('Molto soddisfatto_SAT', '0_WA', '0_P'), 2940, 0.19601306753783584, 0.8440999138673557, 1.107862671342008)\n",
      "('0_L', ('2_TSC', '0_WA'), 2634, 0.17561170744716315, 0.9806403574087863, 1.2870690165185847)\n",
      "('0_L', ('2_TSC', '0_WA', '0_P'), 2590, 0.17267817854523634, 0.9803179409538229, 1.2866458519746578)\n",
      "('0_L', ('Sufficiente_LE',), 2199, 0.14660977398493233, 0.8813627254509018, 1.1567692963806506)\n",
      "('0_L', ('Discreto_LE',), 2165, 0.14434295619707982, 0.9739091318038686, 1.278234430165053)\n",
      "('0_L', ('Sufficiente_LE', '0_P'), 2138, 0.14254283618907926, 0.8805601317957167, 1.1557159097658343)\n",
      "('0_L', ('Discreto_LE', '0_P'), 2110, 0.14067604506967132, 0.9732472324723247, 1.2773657017721736)\n",
      "('0_L', ('1_WA',), 2000, 0.13334222281485433, 0.9220839096357769, 1.2102149598028542)\n",
      "('0_L', ('1_WA', '0_P'), 1928, 0.12854190279351957, 0.9211657907310081, 1.2090099488252004)\n",
      "('0_L', ('4_NP', 'low_SA'), 1838, 0.12254150276685112, 0.8806899856252994, 1.1558863400764672)\n",
      "('0_L', ('3_NP', 'medium_SA'), 1824, 0.12160810720714714, 0.9827586206896551, 1.2898491907353988)\n",
      "('0_L', ('4_NP', 'low_SA', '0_P'), 1820, 0.12134142276151744, 0.8809293320425944, 1.1562004770132022)\n",
      "('0_L', ('Sufficiente_LE', '0_WA'), 1814, 0.12094139609307288, 0.8662846227316141, 1.136979616411575)\n",
      "('0_L', ('Discreto_LE', '0_WA'), 1807, 0.12047469831322088, 0.9704618689581096, 1.2737099730926396)\n",
      "('0_L', ('3_NP', 'medium_SA', '0_P'), 1779, 0.11860790719381292, 0.9823302043070127, 1.2892869036052577)\n",
      "('0_L', ('4_NP', '3_TSC'), 1774, 0.11827455163677579, 0.9866518353726362, 1.294958949838482)\n",
      "('0_L', ('3_NP', '3_TSC'), 1773, 0.11820788052536836, 0.9949494949494949, 1.3058494465127297)\n",
      "('0_L', ('Sufficiente_LE', '0_WA', '0_P'), 1762, 0.11747449829988665, 0.8654223968565815, 1.135847963812729)\n",
      "('0_L', ('3_NP', 'low_SA'), 1754, 0.11694112940862725, 0.9793411501954216, 1.2853638354726222)\n",
      "('0_L', ('Discreto_LE', '0_WA', '0_P'), 1753, 0.11687445829721982, 0.9695796460176991, 1.2725520747829426)\n",
      "('0_L', ('4_NP', 'medium_SA'), 1752, 0.11680778718581239, 0.9172774869109948, 1.203906635122332)\n",
      "('0_L', ('Soddisfatto_SAT', '3_TSC'), 1741, 0.11607440496033068, 0.9875212705615428, 1.296100064504076)\n",
      "('0_L', ('3_NP', '3_TSC', '0_P'), 1738, 0.11587439162610841, 0.994848311390956, 1.3057166453056481)\n",
      "('0_L', ('163-184_AMH',), 1737, 0.11580772051470098, 0.9769403824521935, 1.2822128803290558)\n",
      "('0_L', ('Soddisfatto_SAT', 'medium_SA'), 1737, 0.11580772051470098, 0.9273892151628403, 1.2171780572477635)\n",
      "('0_L', ('3_NP', 'low_SA', '0_P'), 1729, 0.11527435162344156, 0.9790486976217441, 1.2849799978673906)\n",
      "('0_L', ('4_NP', '3_TSC', '0_P'), 1713, 0.11420761384092273, 0.9878892733564014, 1.2965830601218642)\n",
      "('0_L', ('Soddisfatto_SAT', 'low_SA'), 1708, 0.11387425828388559, 0.8709841917389087, 1.143147697925437)\n",
      "('0_L', ('163-184_AMH', '0_P'), 1701, 0.1134075605040336, 0.9764638346727899, 1.2815874217935925)\n",
      "('0_L', ('Soddisfatto_SAT', '3_TSC', '0_P'), 1700, 0.11334088939262618, 0.9889470622454916, 1.2979713848985062)\n",
      "('0_L', ('Soddisfatto_SAT', 'low_SA', '0_P'), 1697, 0.1131408760584039, 0.8715973292244479, 1.1439524274621538)\n",
      "('0_L', ('Molto soddisfatto_SAT', 'low_SA'), 1684, 0.11227415161010734, 0.8303747534516766, 1.0898486985493259)\n",
      "('0_L', ('Soddisfatto_SAT', 'medium_SA', '0_P'), 1683, 0.11220748049869991, 0.9252336448598131, 1.2143489183804985)\n",
      "('0_L', ('4_NP', 'medium_SA', '0_P'), 1680, 0.11200746716447763, 0.914534567229178, 1.2003066130443159)\n",
      "('0_L', ('Molto soddisfatto_SAT', 'low_SA', '0_P'), 1666, 0.11107407160477366, 0.8288557213930349, 1.0878550022028464)\n",
      "('0_L', ('Molto soddisfatto_SAT', '3_TSC'), 1663, 0.11087405827055137, 0.9970023980815348, 1.3085438369640305)\n",
      "('0_L', ('185-206_AMH',), 1653, 0.11020734715647709, 0.9810089020771513, 1.287552723333496)\n",
      "('0_L', ('Molto soddisfatto_SAT', 'medium_SA'), 1632, 0.10880725381692113, 0.8793103448275862, 1.15407559171062)\n",
      "('0_L', ('185-206_AMH', '0_P'), 1620, 0.108007200480032, 0.9806295399515739, 1.287054818842637)\n",
      "('0_L', ('Molto soddisfatto_SAT', '3_TSC', '0_P'), 1613, 0.10754050270018001, 0.9969097651421508, 1.3084222582575358)\n",
      "('0_L', ('Molto soddisfatto_SAT', 'medium_SA', '0_P'), 1571, 0.10474031602106808, 0.8756967670011149, 1.1493328498643438)\n",
      "('0_L', ('207-228_AMH',), 1569, 0.10460697379825322, 0.8929994308480365, 1.172042217648731)\n",
      "('0_L', ('207-228_AMH', '0_P'), 1518, 0.10120674711647443, 0.8898007033997656, 1.1678439578485371)\n",
      "('0_L', ('3_NP', 'medium_SA', '0_WA'), 1508, 0.10054003600240016, 0.9792207792207792, 1.285205851201651)\n",
      "('0_L', ('2_TSC', 'low_SA'), 1505, 0.10034002266817788, 0.9855926653569089, 1.2935688123633424)\n",
      "('0_L', ('4_NP', 'low_SA', '0_WA'), 1504, 0.10027335155677045, 0.8648648648648649, 1.135116215270223)\n",
      "('0_L', ('2_TSC', 'low_SA', '0_P'), 1497, 0.09980665377691846, 0.9855167873601053, 1.293469224152452)\n",
      "('0_L', ('4_NP', 'low_SA', '0_WA', '0_P'), 1494, 0.09960664044269618, 0.86558516801854, 1.1360615974020023)\n",
      "('0_L', ('4_NP', '3_TSC', '0_WA'), 1487, 0.09913994266284419, 0.9841164791528789, 1.2916313502637409)\n",
      "('0_L', ('4_NP', 'medium_SA', '0_WA'), 1481, 0.09873991599439963, 0.9108241082410824, 1.1954367167927893)\n",
      "('0_L', ('3_NP', 'medium_SA', '0_WA', '0_P'), 1472, 0.09813987599173278, 0.9787234042553191, 1.284553057440106)\n",
      "('0_L', ('sales_D', 'medium_SA'), 1469, 0.0979398626575105, 0.8290067720090294, 1.0880532528319418)\n",
      "('0_L', ('163-184_AMH', '0_WA'), 1462, 0.09747316487765852, 0.9727212242182302, 1.2766753274456804)\n",
      "('0_L', ('4_NP', 'medium_SA', '0_WA', '0_P'), 1424, 0.09493966264417628, 0.9075844486934354, 1.1911847345075985)\n",
      "('0_L', ('Soddisfatto_SAT', 'medium_SA', '0_WA'), 1415, 0.09433962264150944, 0.9194282001299545, 1.2067293991730126)\n",
      "('0_L', ('Soddisfatto_SAT', '4_NP'), 1414, 0.09427295153010201, 0.9158031088082902, 1.201971546116166)\n",
      "('0_L', ('sales_D', 'medium_SA', '0_P'), 1402, 0.09347289819321287, 0.8227699530516432, 1.079867564387609)\n",
      "('0_L', ('Soddisfatto_SAT', 'low_SA', '0_WA'), 1399, 0.0932728848589906, 0.8473652331920049, 1.1121483315231782)\n",
      "('0_L', ('Soddisfatto_SAT', 'low_SA', '0_WA', '0_P'), 1394, 0.09293952930195347, 0.8484479610468655, 1.1135693881468267)\n",
      "('0_L', ('Molto soddisfatto_SAT', 'low_SA', '0_WA'), 1382, 0.09213947596506433, 0.808187134502924, 1.0607279340575215)\n",
      "('0_L', ('Soddisfatto_SAT', '4_NP', '0_P'), 1373, 0.0915394359623975, 0.9153333333333333, 1.2013549760821374)\n",
      "('0_L', ('Molto soddisfatto_SAT', 'low_SA', '0_WA', '0_P'), 1365, 0.09100606707113808, 0.8062610750147667, 1.0582000231139732)\n",
      "('0_L', ('Molto soddisfatto_SAT', 'medium_SA', '0_WA'), 1363, 0.09087272484832322, 0.868706182281708, 1.1401578603468097)\n",
      "('0_L', ('Molto soddisfatto_SAT', '4_NP'), 1361, 0.09073938262550836, 0.8630310716550412, 1.1327094017985617)\n",
      "('0_L', ('Molto soddisfatto_SAT', '4_NP', '0_P'), 1320, 0.08800586705780386, 0.8599348534201955, 1.1286456830984872)\n",
      "('0_L', ('Molto soddisfatto_SAT', 'medium_SA', '0_WA', '0_P'), 1316, 0.08773918261217414, 0.8646517739816032, 1.134836538147538)\n"
     ]
    }
   ],
   "source": [
    "interesting_not_left_rules.sort(key=lambda rule: rule[2], reverse=True)\n",
    "for int_rule in interesting_not_left_rules:\n",
    "    print int_rule"
   ]
  },
  {
   "cell_type": "code",
   "execution_count": 79,
   "metadata": {},
   "outputs": [
    {
     "data": {
      "text/plain": [
       "('1_L',\n",
       " ('2_NP', '3_TSC', '0_WA', '0_P'),\n",
       " 1446,\n",
       " 0.09640642709513968,\n",
       " 0.8431486880466472,\n",
       " 3.5414133777685977)"
      ]
     },
     "execution_count": 79,
     "metadata": {},
     "output_type": "execute_result"
    }
   ],
   "source": [
    "first_int_rule = interesting_left_rules[0]\n",
    "first_int_rule"
   ]
  },
  {
   "cell_type": "code",
   "execution_count": 80,
   "metadata": {},
   "outputs": [
    {
     "data": {
      "text/plain": [
       "['Insoddisfatto_SAT',\n",
       " 'Insufficiente_LE',\n",
       " '2_NP',\n",
       " '141-162_AMH',\n",
       " '3_TSC',\n",
       " '0_WA',\n",
       " '1_L',\n",
       " '0_P',\n",
       " 'sales_D',\n",
       " 'low_SA']"
      ]
     },
     "execution_count": 80,
     "metadata": {},
     "output_type": "execute_result"
    }
   ],
   "source": [
    "hr_baskets_list[0]"
   ]
  },
  {
   "cell_type": "code",
   "execution_count": 84,
   "metadata": {
    "collapsed": true
   },
   "outputs": [],
   "source": [
    "from __future__ import division"
   ]
  },
  {
   "cell_type": "code",
   "execution_count": 85,
   "metadata": {},
   "outputs": [
    {
     "name": "stdout",
     "output_type": "stream",
     "text": [
      "counter 1854\n",
      "c_left 1528\n",
      "c_not_left 326\n",
      "accuracy 82.4163969795\n"
     ]
    }
   ],
   "source": [
    "counter = 0\n",
    "c_left = 0\n",
    "c_not_left = 0\n",
    "for row in hr_baskets_list:\n",
    "    if '2_NP' in row and '3_TSC' in row:\n",
    "        counter += 1\n",
    "    if '2_NP' in row and '3_TSC' in row and '1_L' in row:\n",
    "        c_left += 1\n",
    "    if '2_NP' in row and '3_TSC' in row and '0_L' in row:\n",
    "        c_not_left += 1\n",
    "accuracy = (c_left/counter) * 100\n",
    "print 'counter', counter\n",
    "print 'c_left', c_left\n",
    "print 'c_not_left', c_not_left\n",
    "print 'accuracy', accuracy"
   ]
  },
  {
   "cell_type": "code",
   "execution_count": 83,
   "metadata": {},
   "outputs": [
    {
     "name": "stdout",
     "output_type": "stream",
     "text": [
      "counter 4055\n",
      "c_left 72\n",
      "c_not_left 3983\n",
      "accuracy 98.2244143033\n"
     ]
    }
   ],
   "source": [
    "counter = 0\n",
    "c_left = 0\n",
    "c_not_left = 0\n",
    "for row in hr_baskets_list:\n",
    "    if '3_NP' in row:\n",
    "        counter += 1\n",
    "    if '3_NP' in row and '1_L' in row:\n",
    "        c_left += 1\n",
    "    if '3_NP' in row and '0_L' in row:\n",
    "        c_not_left += 1\n",
    "accuracy = (c_not_left/counter) * 100\n",
    "print 'counter', counter\n",
    "print 'c_left', c_left\n",
    "print 'c_not_left', c_not_left\n",
    "print 'accuracy', accuracy"
   ]
  },
  {
   "cell_type": "code",
   "execution_count": null,
   "metadata": {
    "collapsed": true
   },
   "outputs": [],
   "source": []
  }
 ],
 "metadata": {
  "kernelspec": {
   "display_name": "Python 3",
   "language": "python",
   "name": "python3"
  },
  "language_info": {
   "codemirror_mode": {
    "name": "ipython",
    "version": 3
   },
   "file_extension": ".py",
   "mimetype": "text/x-python",
   "name": "python",
   "nbconvert_exporter": "python",
   "pygments_lexer": "ipython3",
   "version": "3.6.3"
  },
  "latex_envs": {
   "LaTeX_envs_menu_present": true,
   "autoclose": false,
   "autocomplete": true,
   "bibliofile": "biblio.bib",
   "cite_by": "apalike",
   "current_citInitial": 1,
   "eqLabelWithNumbers": true,
   "eqNumInitial": 1,
   "hotkeys": {
    "equation": "Ctrl-E",
    "itemize": "Ctrl-I"
   },
   "labels_anchors": false,
   "latex_user_defs": false,
   "report_style_numbering": false,
   "user_envs_cfg": false
  }
 },
 "nbformat": 4,
 "nbformat_minor": 2
}
